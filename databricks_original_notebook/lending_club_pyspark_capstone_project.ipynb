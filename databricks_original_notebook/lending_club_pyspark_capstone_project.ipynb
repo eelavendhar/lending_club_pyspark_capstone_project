{
 "cells": [
  {
   "cell_type": "code",
   "execution_count": null,
   "metadata": {
    "application/vnd.databricks.v1+cell": {
     "cellMetadata": {
      "byteLimit": 2048000,
      "rowLimit": 10000
     },
     "inputWidgets": {},
     "nuid": "ea0a411d-0d16-4af0-a6cc-f78f09893c45",
     "showTitle": false,
     "title": ""
    }
   },
   "outputs": [],
   "source": [
    "from pyspark.sql import SparkSession\n",
    "\n",
    "# Create a Spark session in local mode\n",
    "spark = SparkSession.builder \\\n",
    "    .appName(\"Local PySpark Session\") \\\n",
    "    .master(\"local[*]\") \\\n",
    "    .getOrCreate()"
   ]
  },
  {
   "cell_type": "code",
   "execution_count": null,
   "metadata": {
    "application/vnd.databricks.v1+cell": {
     "cellMetadata": {
      "byteLimit": 2048000,
      "rowLimit": 10000
     },
     "inputWidgets": {},
     "nuid": "ae1e563d-fa76-4201-8f24-9a0e037588bb",
     "showTitle": false,
     "title": ""
    }
   },
   "outputs": [],
   "source": [
    "# Deleting a folder and database table\n",
    "dbutils.fs.rm(\"dbfs:/FileStore/Lending_Club/data_processing\", recurse=True)"
   ]
  },
  {
   "cell_type": "code",
   "execution_count": null,
   "metadata": {
    "application/vnd.databricks.v1+cell": {
     "cellMetadata": {
      "byteLimit": 2048000,
      "rowLimit": 10000
     },
     "inputWidgets": {},
     "nuid": "ce06e3a2-25bc-41bf-aad9-f06ca8fbada4",
     "showTitle": false,
     "title": ""
    }
   },
   "outputs": [],
   "source": [
    "from pyspark.sql.functions import *\n",
    "from pyspark.sql.types import *"
   ]
  },
  {
   "cell_type": "code",
   "execution_count": null,
   "metadata": {
    "application/vnd.databricks.v1+cell": {
     "cellMetadata": {
      "byteLimit": 2048000,
      "rowLimit": 10000
     },
     "inputWidgets": {},
     "nuid": "d58716a8-9387-426f-a929-cdafdea83cb4",
     "showTitle": false,
     "title": ""
    }
   },
   "outputs": [],
   "source": [
    "# Input dataset path\n",
    "input_dataset = \"dbfs:/FileStore/Lending_Club/input_dataset\""
   ]
  },
  {
   "cell_type": "code",
   "execution_count": null,
   "metadata": {
    "application/vnd.databricks.v1+cell": {
     "cellMetadata": {
      "byteLimit": 2048000,
      "rowLimit": 10000
     },
     "inputWidgets": {},
     "nuid": "cfa7bbd6-8ad6-49c6-9487-e7ce26becf89",
     "showTitle": false,
     "title": ""
    }
   },
   "outputs": [],
   "source": [
    "# Read input dataset\n",
    "raw_df = spark.read \\\n",
    ".format(\"csv\") \\\n",
    ".option(\"InferSchema\",\"true\") \\\n",
    ".option(\"header\",\"true\") \\\n",
    ".load(input_dataset)"
   ]
  },
  {
   "cell_type": "code",
   "execution_count": null,
   "metadata": {
    "application/vnd.databricks.v1+cell": {
     "cellMetadata": {
      "byteLimit": 2048000,
      "rowLimit": 10000
     },
     "inputWidgets": {},
     "nuid": "500228b6-0c48-4241-88dd-36a1cdf70a1a",
     "showTitle": false,
     "title": ""
    }
   },
   "outputs": [],
   "source": [
    "# Creating unique id based on the combination of multiple headers\n",
    "raw_df = raw_df.withColumn(\"member_id\", sha2(concat_ws(\"||\", *[\"emp_title\", \"emp_length\", \"home_ownership\", \"annual_inc\", \"zip_code\", \"addr_state\", \"grade\", \"sub_grade\",\"verification_status\"]), 256))"
   ]
  },
  {
   "cell_type": "code",
   "execution_count": null,
   "metadata": {
    "application/vnd.databricks.v1+cell": {
     "cellMetadata": {
      "byteLimit": 2048000,
      "rowLimit": 10000
     },
     "inputWidgets": {},
     "nuid": "c52ef1cc-4dad-42b1-8ba6-5a42b39bc89b",
     "showTitle": false,
     "title": ""
    }
   },
   "outputs": [],
   "source": [
    "# Total count of input dataset\n",
    "raw_df.count()"
   ]
  },
  {
   "cell_type": "code",
   "execution_count": null,
   "metadata": {
    "application/vnd.databricks.v1+cell": {
     "cellMetadata": {
      "byteLimit": 2048000,
      "rowLimit": 10000
     },
     "inputWidgets": {},
     "nuid": "a9756de2-a474-49e1-b691-e0ad0a071510",
     "showTitle": false,
     "title": ""
    }
   },
   "outputs": [],
   "source": [
    "# Total unique count of member_id\n",
    "raw_df.filter(col(\"member_id\").isNotNull()).select(\"member_id\").distinct().count()"
   ]
  },
  {
   "cell_type": "code",
   "execution_count": null,
   "metadata": {
    "application/vnd.databricks.v1+cell": {
     "cellMetadata": {
      "byteLimit": 2048000,
      "rowLimit": 10000
     },
     "inputWidgets": {},
     "nuid": "08a33d00-6c70-4d0a-9b35-6260b4cd2718",
     "showTitle": false,
     "title": ""
    }
   },
   "outputs": [],
   "source": [
    "# Check the count of individual member_id\n",
    "raw_df \\\n",
    ".groupBy(\"member_id\") \\\n",
    ".count() \\\n",
    ".filter(col(\"count\") > 1) \\\n",
    ".orderBy(col(\"count\").desc()) \\\n",
    ".select(col(\"member_id\"), col(\"count\").alias(\"total_cnt\")) \\\n",
    ".show()"
   ]
  },
  {
   "cell_type": "markdown",
   "metadata": {
    "application/vnd.databricks.v1+cell": {
     "cellMetadata": {
      "byteLimit": 2048000,
      "rowLimit": 10000
     },
     "inputWidgets": {},
     "nuid": "3192ec3f-7d68-4632-a334-5ecb61c659b8",
     "showTitle": false,
     "title": ""
    }
   },
   "source": [
    "Creating raw dataset for customer, loan, loan_repayment, loan_defaulter"
   ]
  },
  {
   "cell_type": "code",
   "execution_count": null,
   "metadata": {
    "application/vnd.databricks.v1+cell": {
     "cellMetadata": {
      "byteLimit": 2048000,
      "rowLimit": 10000
     },
     "inputWidgets": {},
     "nuid": "f8bd3ada-2d50-4964-98b8-540adcd41f46",
     "showTitle": false,
     "title": ""
    }
   },
   "outputs": [],
   "source": [
    "# customer dataset\n",
    "raw_df.select(\n",
    "        \"member_id\",\n",
    "        \"emp_title\",\n",
    "        \"emp_length\",\n",
    "        \"home_ownership\",\n",
    "        \"annual_inc\",\n",
    "        \"addr_state\",\n",
    "        \"zip_code\",\n",
    "        lit(\"USA\").alias(\"country\"),\n",
    "        \"grade\",\n",
    "        \"sub_grade\",\n",
    "        \"verification_status\",\n",
    "        \"tot_hi_cred_lim\",\n",
    "        \"application_type\",\n",
    "        \"annual_inc_joint\",\n",
    "        \"verification_status_joint\"\n",
    "    ) \\\n",
    "    .write \\\n",
    "    .format(\"csv\") \\\n",
    "    .option(\"header\", \"true\") \\\n",
    "    .mode(\"overwrite\") \\\n",
    "    .option(\"path\", \"dbfs:/FileStore/Lending_Club/data_processing/raw/customer\") \\\n",
    "    .save()"
   ]
  },
  {
   "cell_type": "code",
   "execution_count": null,
   "metadata": {
    "application/vnd.databricks.v1+cell": {
     "cellMetadata": {
      "byteLimit": 2048000,
      "rowLimit": 10000
     },
     "inputWidgets": {},
     "nuid": "f8819b17-08ab-4289-9dbb-650825922699",
     "showTitle": false,
     "title": ""
    }
   },
   "outputs": [],
   "source": [
    "# loan dataset\n",
    "raw_df.select(\n",
    "        col(\"id\").alias(\"loan_id\"),\n",
    "        \"member_id\",\n",
    "        \"loan_amnt\",\n",
    "        \"funded_amnt\",\n",
    "        \"term\",\n",
    "        \"int_rate\",\n",
    "        \"installment\",\n",
    "        \"issue_d\",\n",
    "        \"loan_status\",\n",
    "        \"purpose\",\n",
    "        \"title\"\n",
    "    ) \\\n",
    "    .write \\\n",
    "    .format(\"csv\") \\\n",
    "    .option(\"header\", \"true\") \\\n",
    "    .option(\"path\", \"dbfs:/FileStore/Lending_Club/data_processing/raw/loan\") \\\n",
    "    .save()"
   ]
  },
  {
   "cell_type": "code",
   "execution_count": null,
   "metadata": {
    "application/vnd.databricks.v1+cell": {
     "cellMetadata": {
      "byteLimit": 2048000,
      "rowLimit": 10000
     },
     "inputWidgets": {},
     "nuid": "038868d6-b753-4576-8443-458218b08728",
     "showTitle": false,
     "title": ""
    }
   },
   "outputs": [],
   "source": [
    "# loan_repayment dataset\n",
    "raw_df.select(\n",
    "        col(\"id\").alias(\"loan_id\"),\n",
    "        \"total_rec_prncp\",\n",
    "        \"total_rec_int\",\n",
    "        \"total_rec_late_fee\",\n",
    "        \"total_pymnt\",\n",
    "        \"last_pymnt_amnt\",\n",
    "        \"last_pymnt_d\",\n",
    "        \"next_pymnt_d\"\n",
    "    ) \\\n",
    "    .write \\\n",
    "    .format(\"csv\") \\\n",
    "    .option(\"header\", \"true\") \\\n",
    "    .option(\"path\", \"dbfs:/FileStore/Lending_Club/data_processing/raw/loan_repayment\") \\\n",
    "    .save()"
   ]
  },
  {
   "cell_type": "code",
   "execution_count": null,
   "metadata": {
    "application/vnd.databricks.v1+cell": {
     "cellMetadata": {
      "byteLimit": 2048000,
      "rowLimit": 10000
     },
     "inputWidgets": {},
     "nuid": "d3602211-1e51-4181-b990-50e77676d314",
     "showTitle": false,
     "title": ""
    }
   },
   "outputs": [],
   "source": [
    "# loan_defaulter dataset\n",
    "raw_df.select(\n",
    "        col(\"id\").alias(\"loan_id\"),\n",
    "        \"total_rec_prncp\",\n",
    "        \"total_rec_int\",\n",
    "        \"total_rec_late_fee\",\n",
    "        \"total_pymnt\",\n",
    "        \"last_pymnt_amnt\",\n",
    "        \"last_pymnt_d\",\n",
    "        \"next_pymnt_d\"\n",
    "    ) \\\n",
    "    .write \\\n",
    "    .format(\"csv\") \\\n",
    "    .option(\"header\", \"true\") \\\n",
    "    .option(\"path\", \"dbfs:/FileStore/Lending_Club/data_processing/raw/loan_defaulter\") \\\n",
    "    .save()"
   ]
  },
  {
   "cell_type": "markdown",
   "metadata": {
    "application/vnd.databricks.v1+cell": {
     "cellMetadata": {
      "byteLimit": 2048000,
      "rowLimit": 10000
     },
     "inputWidgets": {},
     "nuid": "6ecf0642-7658-4ffc-aa04-8923cbaa519b",
     "showTitle": false,
     "title": ""
    }
   },
   "source": [
    "Creating dataframes using raw dataset for customer, loan, loan_repayment, loan_defaulter"
   ]
  },
  {
   "cell_type": "code",
   "execution_count": null,
   "metadata": {
    "application/vnd.databricks.v1+cell": {
     "cellMetadata": {
      "byteLimit": 2048000,
      "rowLimit": 10000
     },
     "inputWidgets": {},
     "nuid": "4b9cfc61-5402-460c-900c-3457b485a9be",
     "showTitle": false,
     "title": ""
    }
   },
   "outputs": [],
   "source": [
    "# customer dataset\n",
    "raw_customer_df = spark.read \\\n",
    ".format(\"csv\") \\\n",
    ".option(\"InferSchema\",\"true\") \\\n",
    ".option(\"header\",\"true\") \\\n",
    ".load(\"dbfs:/FileStore/Lending_Club/data_processing/raw/customer\")"
   ]
  },
  {
   "cell_type": "code",
   "execution_count": null,
   "metadata": {
    "application/vnd.databricks.v1+cell": {
     "cellMetadata": {
      "byteLimit": 2048000,
      "rowLimit": 10000
     },
     "inputWidgets": {},
     "nuid": "b7d82e96-d6bb-4c86-ab18-11983db1c045",
     "showTitle": false,
     "title": ""
    }
   },
   "outputs": [],
   "source": [
    "# loan dataset\n",
    "raw_loan_df = spark.read \\\n",
    ".format(\"csv\") \\\n",
    ".option(\"InferSchema\",\"true\") \\\n",
    ".option(\"header\",\"true\") \\\n",
    ".load(\"dbfs:/FileStore/Lending_Club/data_processing/raw/loan\")"
   ]
  },
  {
   "cell_type": "code",
   "execution_count": null,
   "metadata": {
    "application/vnd.databricks.v1+cell": {
     "cellMetadata": {
      "byteLimit": 2048000,
      "rowLimit": 10000
     },
     "inputWidgets": {},
     "nuid": "5ce9883d-5183-42b3-961a-b64fa2ce91c5",
     "showTitle": false,
     "title": ""
    }
   },
   "outputs": [],
   "source": [
    "# loan_repayment dataset\n",
    "raw_loan_repayment_df = spark.read \\\n",
    ".format(\"csv\") \\\n",
    ".option(\"InferSchema\",\"true\") \\\n",
    ".option(\"header\",\"true\") \\\n",
    ".load(\"dbfs:/FileStore/Lending_Club/data_processing/raw/loan_repayment\")"
   ]
  },
  {
   "cell_type": "code",
   "execution_count": null,
   "metadata": {
    "application/vnd.databricks.v1+cell": {
     "cellMetadata": {
      "byteLimit": 2048000,
      "rowLimit": 10000
     },
     "inputWidgets": {},
     "nuid": "2b26f83a-c0f6-49b8-a8c2-a77a17e0027e",
     "showTitle": false,
     "title": ""
    }
   },
   "outputs": [],
   "source": [
    "# loan_defaulter dataset\n",
    "raw_loan_defaulter_df = spark.read \\\n",
    ".format(\"csv\") \\\n",
    ".option(\"InferSchema\",\"true\") \\\n",
    ".option(\"header\",\"true\") \\\n",
    ".load(\"dbfs:/FileStore/Lending_Club/data_processing/raw/loan_defaulter\")"
   ]
  },
  {
   "cell_type": "markdown",
   "metadata": {
    "application/vnd.databricks.v1+cell": {
     "cellMetadata": {
      "byteLimit": 2048000,
      "rowLimit": 10000
     },
     "inputWidgets": {},
     "nuid": "d236063e-5776-43e0-b020-6cceb01f3f2b",
     "showTitle": false,
     "title": ""
    }
   },
   "source": [
    "Handling datatype of raw dataset"
   ]
  },
  {
   "cell_type": "code",
   "execution_count": null,
   "metadata": {
    "application/vnd.databricks.v1+cell": {
     "cellMetadata": {
      "byteLimit": 2048000,
      "rowLimit": 10000
     },
     "inputWidgets": {},
     "nuid": "579ae8b8-b75a-41e8-9522-41b243b2b993",
     "showTitle": false,
     "title": ""
    }
   },
   "outputs": [],
   "source": [
    "# Creating customer raw dataframe with proper datatype\n",
    "customer_schema = StructType([\n",
    "    StructField(\"member_id\", StringType(), True),\n",
    "    StructField(\"emp_title\", StringType(), True),\n",
    "    StructField(\"emp_length\", StringType(), True),\n",
    "    StructField(\"home_ownership\", StringType(), True),\n",
    "    StructField(\"annual_inc\", FloatType(), True),\n",
    "    StructField(\"addr_state\", StringType(), True),\n",
    "    StructField(\"zip_code\", StringType(), True),\n",
    "    StructField(\"country\", StringType(), True),\n",
    "    StructField(\"grade\", StringType(), True),\n",
    "    StructField(\"sub_grade\", StringType(), True),\n",
    "    StructField(\"verification_status\", StringType(), True),\n",
    "    StructField(\"tot_hi_cred_lim\", FloatType(), True),\n",
    "    StructField(\"application_type\", StringType(), True),\n",
    "    StructField(\"annual_inc_joint\", FloatType(), True),\n",
    "    StructField(\"verification_status_joint\", StringType(), True)\n",
    "])\n",
    "\n",
    "raw_customer_df = spark.read \\\n",
    ".format(\"csv\") \\\n",
    ".option(\"header\", \"true\") \\\n",
    ".schema(customer_schema) \\\n",
    ".load(\"dbfs:/FileStore/Lending_Club/data_processing/raw/customer\")"
   ]
  },
  {
   "cell_type": "code",
   "execution_count": null,
   "metadata": {
    "application/vnd.databricks.v1+cell": {
     "cellMetadata": {
      "byteLimit": 2048000,
      "rowLimit": 10000
     },
     "inputWidgets": {},
     "nuid": "7b89f9b3-2b6b-4579-89c5-9afc7514ad8d",
     "showTitle": false,
     "title": ""
    }
   },
   "outputs": [],
   "source": [
    "# Creating loan raw dataframe with proper datatype\n",
    "loan_schema = StructType([\n",
    "    StructField(\"loan_id\", StringType(), True),\n",
    "    StructField(\"member_id\", StringType(), True),\n",
    "    StructField(\"loan_amount\", FloatType(), True),\n",
    "    StructField(\"funded_amount\", FloatType(), True),\n",
    "    StructField(\"loan_term_months\", StringType(), True),\n",
    "    StructField(\"interest_rate\", FloatType(), True),\n",
    "    StructField(\"monthly_installment\", FloatType(), True),\n",
    "    StructField(\"issue_date\", StringType(), True),\n",
    "    StructField(\"loan_status\", StringType(), True),\n",
    "    StructField(\"loan_purpose\", StringType(), True),\n",
    "    StructField(\"loan_title\", StringType(), True)\n",
    "])\n",
    "\n",
    "raw_loan_df = spark.read \\\n",
    ".format(\"csv\") \\\n",
    ".option(\"header\", \"true\") \\\n",
    ".schema(loan_schema) \\\n",
    ".load(\"dbfs:/FileStore/Lending_Club/data_processing/raw/loan\")"
   ]
  },
  {
   "cell_type": "code",
   "execution_count": null,
   "metadata": {
    "application/vnd.databricks.v1+cell": {
     "cellMetadata": {
      "byteLimit": 2048000,
      "rowLimit": 10000
     },
     "inputWidgets": {},
     "nuid": "635720ba-9542-4e86-9ef0-830dba09a1b3",
     "showTitle": false,
     "title": ""
    }
   },
   "outputs": [],
   "source": [
    "# Creating loan_repayment raw dataframe with proper datatype\n",
    "loan_repayment_schema = StructType([\n",
    "    StructField(\"loan_id\", StringType(), True),\n",
    "    StructField(\"total_principal_received\", FloatType(), True),\n",
    "    StructField(\"total_interest_received\", FloatType(), True),\n",
    "    StructField(\"total_late_fee_received\", FloatType(), True),\n",
    "    StructField(\"total_payment_received\", FloatType(), True),\n",
    "    StructField(\"last_payment_amount\", FloatType(), True),\n",
    "    StructField(\"last_payment_date\", StringType(), True),\n",
    "    StructField(\"next_payment_date\", StringType(), True)\n",
    "])\n",
    "\n",
    "raw_loan_repayment_df = spark.read \\\n",
    ".format(\"csv\") \\\n",
    ".option(\"header\", \"true\") \\\n",
    ".schema(loan_repayment_schema) \\\n",
    ".load(\"dbfs:/FileStore/Lending_Club/data_processing/raw/loan_repayment\")"
   ]
  },
  {
   "cell_type": "code",
   "execution_count": null,
   "metadata": {
    "application/vnd.databricks.v1+cell": {
     "cellMetadata": {
      "byteLimit": 2048000,
      "rowLimit": 10000
     },
     "inputWidgets": {},
     "nuid": "a3bd9ec7-3b7d-48c6-b92e-c07aece93c73",
     "showTitle": false,
     "title": ""
    }
   },
   "outputs": [],
   "source": [
    "# Creating loan_defaulter raw dataframe with proper datatype\n",
    "loan_defaulter_schema = StructType([\n",
    "    StructField(\"member_id\", StringType(), True),\n",
    "    StructField(\"delinq_2yrs\", FloatType(), True),\n",
    "    StructField(\"delinq_amnt\", FloatType(), True),\n",
    "    StructField(\"pub_rec\", FloatType(), True),\n",
    "    StructField(\"pub_rec_bankruptcies\", FloatType(), True),\n",
    "    StructField(\"inq_last_6mths\", FloatType(), True),\n",
    "    StructField(\"total_rec_late_fee\", FloatType(), True),\n",
    "    StructField(\"mths_since_last_delinq\", FloatType(), True),\n",
    "    StructField(\"mths_since_last_record\", FloatType(), True)\n",
    "])\n",
    " \n",
    "raw_loan_defaulter_df = spark.read \\\n",
    ".format(\"csv\") \\\n",
    ".option(\"header\", \"true\") \\\n",
    ".schema(loan_defaulter_schema) \\\n",
    ".load(\"dbfs:/FileStore/Lending_Club/data_processing/raw/loan_defaulter\")"
   ]
  },
  {
   "cell_type": "markdown",
   "metadata": {
    "application/vnd.databricks.v1+cell": {
     "cellMetadata": {
      "byteLimit": 2048000,
      "rowLimit": 10000
     },
     "inputWidgets": {},
     "nuid": "84b1df5b-696f-4183-a1d6-488e3cb8bda7",
     "showTitle": false,
     "title": ""
    }
   },
   "source": [
    "Processing customer dataset"
   ]
  },
  {
   "cell_type": "code",
   "execution_count": null,
   "metadata": {
    "application/vnd.databricks.v1+cell": {
     "cellMetadata": {
      "byteLimit": 2048000,
      "rowLimit": 10000
     },
     "inputWidgets": {},
     "nuid": "f4e8cbef-e6ad-4ed3-8487-1352fc5e1cac",
     "showTitle": false,
     "title": ""
    }
   },
   "outputs": [],
   "source": [
    "# Rename columns\n",
    "customer_df_renamed = raw_customer_df.withColumnRenamed(\"annual_inc\", \"annual_income\") \\\n",
    ".withColumnRenamed(\"addr_state\", \"address_state\") \\\n",
    ".withColumnRenamed(\"zip_code\", \"address_zipcode\") \\\n",
    ".withColumnRenamed(\"country\", \"address_country\") \\\n",
    ".withColumnRenamed(\"tot_hi_credit_lim\", \"total_high_credit_limit\") \\\n",
    ".withColumnRenamed(\"annual_inc_joint\", \"join_annual_income\")"
   ]
  },
  {
   "cell_type": "code",
   "execution_count": null,
   "metadata": {
    "application/vnd.databricks.v1+cell": {
     "cellMetadata": {
      "byteLimit": 2048000,
      "rowLimit": 10000
     },
     "inputWidgets": {},
     "nuid": "5006638e-a2b8-41ab-8545-d697ccb3b231",
     "showTitle": false,
     "title": ""
    }
   },
   "outputs": [],
   "source": [
    "# Insert a new column named as ingestion date(current time)\n",
    "customers_df_ingestd = customer_df_renamed.withColumn(\"ingest_date\", current_timestamp())"
   ]
  },
  {
   "cell_type": "code",
   "execution_count": null,
   "metadata": {
    "application/vnd.databricks.v1+cell": {
     "cellMetadata": {
      "byteLimit": 2048000,
      "rowLimit": 10000
     },
     "inputWidgets": {},
     "nuid": "03c8540e-e720-46e4-9c23-4c28d48e6067",
     "showTitle": false,
     "title": ""
    }
   },
   "outputs": [],
   "source": [
    "customers_df_ingestd = customers_df_ingestd.withColumn(\"ingest_date\", col(\"ingest_date\").cast(StringType()))"
   ]
  },
  {
   "cell_type": "code",
   "execution_count": null,
   "metadata": {
    "application/vnd.databricks.v1+cell": {
     "cellMetadata": {
      "byteLimit": 2048000,
      "rowLimit": 10000
     },
     "inputWidgets": {},
     "nuid": "7eb83567-51af-4456-9d62-e22624669849",
     "showTitle": false,
     "title": ""
    }
   },
   "outputs": [],
   "source": [
    "# Remove duplicates\n",
    "customers_distinct = customers_df_ingestd.distinct()"
   ]
  },
  {
   "cell_type": "code",
   "execution_count": null,
   "metadata": {
    "application/vnd.databricks.v1+cell": {
     "cellMetadata": {
      "byteLimit": 2048000,
      "rowLimit": 10000
     },
     "inputWidgets": {},
     "nuid": "8efc9381-102f-4597-b17e-9a54a2cb9204",
     "showTitle": false,
     "title": ""
    }
   },
   "outputs": [],
   "source": [
    "# Remove the rows where annual_income is null\n",
    "customers_income_filtered = customers_distinct.filter(customers_distinct[\"annual_income\"].isNotNull())"
   ]
  },
  {
   "cell_type": "code",
   "execution_count": null,
   "metadata": {
    "application/vnd.databricks.v1+cell": {
     "cellMetadata": {
      "byteLimit": 2048000,
      "rowLimit": 10000
     },
     "inputWidgets": {},
     "nuid": "71d9b64f-8671-4d6e-bff7-e7732c5ce618",
     "showTitle": false,
     "title": ""
    }
   },
   "outputs": [],
   "source": [
    "# Convert emp_length to integer\n",
    "customers_emplength_cleaned = customers_income_filtered.withColumn(\"emp_length\", regexp_replace(col(\"emp_length\"), \"(\\D)\",\"\"))"
   ]
  },
  {
   "cell_type": "code",
   "execution_count": null,
   "metadata": {
    "application/vnd.databricks.v1+cell": {
     "cellMetadata": {
      "byteLimit": 2048000,
      "rowLimit": 10000
     },
     "inputWidgets": {},
     "nuid": "76ba06b4-1ada-4596-b41a-4c8ecf5daec4",
     "showTitle": false,
     "title": ""
    }
   },
   "outputs": [],
   "source": [
    "customers_emplength_casted = customers_emplength_cleaned.withColumn(\"emp_length\", customers_emplength_cleaned.emp_length.cast('int'))"
   ]
  },
  {
   "cell_type": "code",
   "execution_count": null,
   "metadata": {
    "application/vnd.databricks.v1+cell": {
     "cellMetadata": {
      "byteLimit": 2048000,
      "rowLimit": 10000
     },
     "inputWidgets": {},
     "nuid": "b651633b-b9a1-4614-b747-fd4b21807a70",
     "showTitle": false,
     "title": ""
    }
   },
   "outputs": [],
   "source": [
    "# Replace all the nulls in emp_length column with average\n",
    "avg_emp_length_df = customers_emplength_casted.select(floor(avg(\"emp_length\")).alias(\"avg_emp_length\"))"
   ]
  },
  {
   "cell_type": "code",
   "execution_count": null,
   "metadata": {
    "application/vnd.databricks.v1+cell": {
     "cellMetadata": {
      "byteLimit": 2048000,
      "rowLimit": 10000
     },
     "inputWidgets": {},
     "nuid": "efe49517-e29e-494f-bbf4-07812904eb55",
     "showTitle": false,
     "title": ""
    }
   },
   "outputs": [],
   "source": [
    "avg_emp_duration = avg_emp_length_df.collect()[0][\"avg_emp_length\"]"
   ]
  },
  {
   "cell_type": "code",
   "execution_count": null,
   "metadata": {
    "application/vnd.databricks.v1+cell": {
     "cellMetadata": {
      "byteLimit": 2048000,
      "rowLimit": 10000
     },
     "inputWidgets": {},
     "nuid": "39dcb2aa-4a2e-4a34-b3dc-de6064a8ac98",
     "showTitle": false,
     "title": ""
    }
   },
   "outputs": [],
   "source": [
    "customers_emplength_replaced = customers_emplength_casted.na.fill(avg_emp_duration, subset=[\"emp_length\"])"
   ]
  },
  {
   "cell_type": "code",
   "execution_count": null,
   "metadata": {
    "application/vnd.databricks.v1+cell": {
     "cellMetadata": {
      "byteLimit": 2048000,
      "rowLimit": 10000
     },
     "inputWidgets": {},
     "nuid": "f87bf8dc-1af3-45eb-89e7-6d1c87fc6343",
     "showTitle": false,
     "title": ""
    }
   },
   "outputs": [],
   "source": [
    "# Clean the address_state(it should be 2 characters only),replace all others with NA\n",
    "customers_state_cleaned = customers_emplength_replaced.withColumn(\n",
    "    \"address_state\",\n",
    "    when(length(col(\"address_state\"))> 2, \"NA\").otherwise(col(\"address_state\"))\n",
    ")"
   ]
  },
  {
   "cell_type": "code",
   "execution_count": null,
   "metadata": {
    "application/vnd.databricks.v1+cell": {
     "cellMetadata": {
      "byteLimit": 2048000,
      "rowLimit": 10000
     },
     "inputWidgets": {},
     "nuid": "255783cd-e004-4b6a-869e-fd0d0565e1ff",
     "showTitle": false,
     "title": ""
    }
   },
   "outputs": [],
   "source": [
    "customers_state_cleaned.write \\\n",
    ".format(\"parquet\") \\\n",
    ".mode(\"overwrite\") \\\n",
    ".option(\"path\", \"dbfs:/FileStore/Lending_Club/data_processing/cleaned/customer_parquet\") \\\n",
    ".save()"
   ]
  },
  {
   "cell_type": "code",
   "execution_count": null,
   "metadata": {
    "application/vnd.databricks.v1+cell": {
     "cellMetadata": {
      "byteLimit": 2048000,
      "rowLimit": 10000
     },
     "inputWidgets": {},
     "nuid": "a8d47357-4132-4e82-817d-046265b92c9a",
     "showTitle": false,
     "title": ""
    }
   },
   "outputs": [],
   "source": [
    "customers_state_cleaned.write \\\n",
    ".option(\"header\", True) \\\n",
    ".format(\"csv\") \\\n",
    ".mode(\"overwrite\") \\\n",
    ".option(\"path\", \"dbfs:/FileStore/Lending_Club/data_processing/cleaned/customer_csv\") \\\n",
    ".save()"
   ]
  },
  {
   "cell_type": "markdown",
   "metadata": {
    "application/vnd.databricks.v1+cell": {
     "cellMetadata": {
      "byteLimit": 2048000,
      "rowLimit": 10000
     },
     "inputWidgets": {},
     "nuid": "51e5f8f7-5866-4f77-a7bc-a90593f17794",
     "showTitle": false,
     "title": ""
    }
   },
   "source": [
    "Processing loan dataset"
   ]
  },
  {
   "cell_type": "code",
   "execution_count": null,
   "metadata": {
    "application/vnd.databricks.v1+cell": {
     "cellMetadata": {
      "byteLimit": 2048000,
      "rowLimit": 10000
     },
     "inputWidgets": {},
     "nuid": "8178cb1e-9f72-423d-b4ce-fdf25782c20c",
     "showTitle": false,
     "title": ""
    }
   },
   "outputs": [],
   "source": [
    "# Insert a new column named as ingestion date(current time)\n",
    "loans_df_ingestd = raw_loan_df.withColumn(\"ingest_date\", current_timestamp())"
   ]
  },
  {
   "cell_type": "code",
   "execution_count": null,
   "metadata": {
    "application/vnd.databricks.v1+cell": {
     "cellMetadata": {
      "byteLimit": 2048000,
      "rowLimit": 10000
     },
     "inputWidgets": {},
     "nuid": "ed62b3d0-ae15-4208-8502-4feed418efa3",
     "showTitle": false,
     "title": ""
    }
   },
   "outputs": [],
   "source": [
    "loans_df_ingestd = loans_df_ingestd.withColumn(\"ingest_date\", col(\"ingest_date\").cast(StringType()))"
   ]
  },
  {
   "cell_type": "code",
   "execution_count": null,
   "metadata": {
    "application/vnd.databricks.v1+cell": {
     "cellMetadata": {
      "byteLimit": 2048000,
      "rowLimit": 10000
     },
     "inputWidgets": {},
     "nuid": "fd3aea17-7077-4b47-a27a-558c275d3809",
     "showTitle": false,
     "title": ""
    }
   },
   "outputs": [],
   "source": [
    "# Dropping the rows which has null values in the mentioned columns\n",
    "columns_to_check = [\"loan_amount\", \"funded_amount\", \"loan_term_months\", \"interest_rate\", \"monthly_installment\", \"issue_date\", \"loan_status\", \"loan_purpose\"]"
   ]
  },
  {
   "cell_type": "code",
   "execution_count": null,
   "metadata": {
    "application/vnd.databricks.v1+cell": {
     "cellMetadata": {
      "byteLimit": 2048000,
      "rowLimit": 10000
     },
     "inputWidgets": {},
     "nuid": "93f94835-002c-4393-af60-f43ae7638f48",
     "showTitle": false,
     "title": ""
    }
   },
   "outputs": [],
   "source": [
    "loans_filtered_df = loans_df_ingestd.na.drop(subset=columns_to_check)"
   ]
  },
  {
   "cell_type": "code",
   "execution_count": null,
   "metadata": {
    "application/vnd.databricks.v1+cell": {
     "cellMetadata": {
      "byteLimit": 2048000,
      "rowLimit": 10000
     },
     "inputWidgets": {},
     "nuid": "ca60724c-c864-41a8-a05d-573efb413701",
     "showTitle": false,
     "title": ""
    }
   },
   "outputs": [],
   "source": [
    "# Convert loan_term_months to integer\n",
    "loans_term_modified_df = loans_filtered_df.withColumn(\"loan_term_months\", (regexp_replace(col(\"loan_term_months\"), \" months\", \"\") \\\n",
    ".cast(\"int\") / 12) \\\n",
    ".cast(\"int\")) \\\n",
    ".withColumnRenamed(\"loan_term_months\",\"loan_term_years\")"
   ]
  },
  {
   "cell_type": "code",
   "execution_count": null,
   "metadata": {
    "application/vnd.databricks.v1+cell": {
     "cellMetadata": {
      "byteLimit": 2048000,
      "rowLimit": 10000
     },
     "inputWidgets": {},
     "nuid": "8df17dff-9988-40b5-9737-6fd23bb49657",
     "showTitle": false,
     "title": ""
    }
   },
   "outputs": [],
   "source": [
    "# Clean the loans_purpose column\n",
    "loan_purpose_lookup = [\"debt_consolidation\", \"credit_card\", \"home_improvement\", \"other\", \"major_purchase\", \"medical\", \"small_business\", \"car\", \"vacation\", \"moving\", \"house\", \"wedding\", \"renewable_energy\", \"educational\"]"
   ]
  },
  {
   "cell_type": "code",
   "execution_count": null,
   "metadata": {
    "application/vnd.databricks.v1+cell": {
     "cellMetadata": {
      "byteLimit": 2048000,
      "rowLimit": 10000
     },
     "inputWidgets": {},
     "nuid": "95a0fa9a-33dd-4e12-aa68-f82400e20b59",
     "showTitle": false,
     "title": ""
    }
   },
   "outputs": [],
   "source": [
    "loans_purpose_modified = loans_term_modified_df.withColumn(\"loan_purpose\", when(col(\"loan_purpose\").isin(loan_purpose_lookup), col(\"loan_purpose\")).otherwise(\"other\"))"
   ]
  },
  {
   "cell_type": "code",
   "execution_count": null,
   "metadata": {
    "application/vnd.databricks.v1+cell": {
     "cellMetadata": {
      "byteLimit": 2048000,
      "rowLimit": 10000
     },
     "inputWidgets": {},
     "nuid": "09206699-5f4d-420b-8eb3-426a899c50e0",
     "showTitle": false,
     "title": ""
    }
   },
   "outputs": [],
   "source": [
    "loans_purpose_modified.groupBy(\"loan_purpose\").agg(count(\"*\").alias(\"total\")).orderBy(col(\"total\").desc())"
   ]
  },
  {
   "cell_type": "code",
   "execution_count": null,
   "metadata": {
    "application/vnd.databricks.v1+cell": {
     "cellMetadata": {
      "byteLimit": 2048000,
      "rowLimit": 10000
     },
     "inputWidgets": {},
     "nuid": "e77e9a54-5db4-4f02-9bff-7214f673058c",
     "showTitle": false,
     "title": ""
    }
   },
   "outputs": [],
   "source": [
    "loans_purpose_modified.write \\\n",
    ".format(\"parquet\") \\\n",
    ".mode(\"overwrite\") \\\n",
    ".option(\"path\", \"dbfs:/FileStore/Lending_Club/data_processing/cleaned/loan_parquet\") \\\n",
    ".save()"
   ]
  },
  {
   "cell_type": "code",
   "execution_count": null,
   "metadata": {
    "application/vnd.databricks.v1+cell": {
     "cellMetadata": {
      "byteLimit": 2048000,
      "rowLimit": 10000
     },
     "inputWidgets": {},
     "nuid": "e1fa7925-2ebf-48dc-a3af-f9bc936558a5",
     "showTitle": false,
     "title": ""
    }
   },
   "outputs": [],
   "source": [
    "loans_purpose_modified.write \\\n",
    ".option(\"header\", True) \\\n",
    ".format(\"csv\") \\\n",
    ".mode(\"overwrite\") \\\n",
    ".option(\"path\", \"dbfs:/FileStore/Lending_Club/data_processing/cleaned/loan_csv\") \\\n",
    ".save()"
   ]
  },
  {
   "cell_type": "markdown",
   "metadata": {
    "application/vnd.databricks.v1+cell": {
     "cellMetadata": {
      "byteLimit": 2048000,
      "rowLimit": 10000
     },
     "inputWidgets": {},
     "nuid": "4eab1b9d-79ae-48b5-ba9e-755add7a983b",
     "showTitle": false,
     "title": ""
    }
   },
   "source": [
    "Processing loan_repayment dataset"
   ]
  },
  {
   "cell_type": "code",
   "execution_count": null,
   "metadata": {
    "application/vnd.databricks.v1+cell": {
     "cellMetadata": {
      "byteLimit": 2048000,
      "rowLimit": 10000
     },
     "inputWidgets": {},
     "nuid": "1bec08fe-32aa-4ea1-b01a-dfef9f88df6d",
     "showTitle": false,
     "title": ""
    }
   },
   "outputs": [],
   "source": [
    "# Insert a new column named as ingestion date(current time)\n",
    "loans_repay_df_ingestd = raw_loan_repayment_df.withColumn(\"ingest_date\", current_timestamp())"
   ]
  },
  {
   "cell_type": "code",
   "execution_count": null,
   "metadata": {
    "application/vnd.databricks.v1+cell": {
     "cellMetadata": {
      "byteLimit": 2048000,
      "rowLimit": 10000
     },
     "inputWidgets": {},
     "nuid": "3536d5ae-b647-45ce-8523-236589662947",
     "showTitle": false,
     "title": ""
    }
   },
   "outputs": [],
   "source": [
    "loans_repay_df_ingestd = loans_repay_df_ingestd.withColumn(\"ingest_date\", col(\"ingest_date\").cast(StringType()))"
   ]
  },
  {
   "cell_type": "code",
   "execution_count": null,
   "metadata": {
    "application/vnd.databricks.v1+cell": {
     "cellMetadata": {
      "byteLimit": 2048000,
      "rowLimit": 10000
     },
     "inputWidgets": {},
     "nuid": "a65f3993-cda8-4fac-ab56-947664598746",
     "showTitle": false,
     "title": ""
    }
   },
   "outputs": [],
   "source": [
    "# Dropping the rows which has null values in the mentioned columns\n",
    "columns_to_check = [\"total_principal_received\", \"total_interest_received\", \"total_late_fee_received\", \"total_payment_received\", \"last_payment_amount\"]"
   ]
  },
  {
   "cell_type": "code",
   "execution_count": null,
   "metadata": {
    "application/vnd.databricks.v1+cell": {
     "cellMetadata": {
      "byteLimit": 2048000,
      "rowLimit": 10000
     },
     "inputWidgets": {},
     "nuid": "4b868e5b-25f4-47a9-80f4-b3bf1218da87",
     "showTitle": false,
     "title": ""
    }
   },
   "outputs": [],
   "source": [
    "loans_repay_filtered_df = loans_repay_df_ingestd.na.drop(subset=columns_to_check)"
   ]
  },
  {
   "cell_type": "code",
   "execution_count": null,
   "metadata": {
    "application/vnd.databricks.v1+cell": {
     "cellMetadata": {
      "byteLimit": 2048000,
      "rowLimit": 10000
     },
     "inputWidgets": {},
     "nuid": "b5c24a2a-d682-42f0-bf3c-1407a2d7bc90",
     "showTitle": false,
     "title": ""
    }
   },
   "outputs": [],
   "source": [
    "# Update total_payment_received based on criteria\n",
    "loans_payments_fixed_df = loans_repay_filtered_df.withColumn(\n",
    "   \"total_payment_received\",\n",
    "    when(\n",
    "        (col(\"total_principal_received\") != 0.0) &\n",
    "        (col(\"total_payment_received\") == 0.0),\n",
    "        col(\"total_principal_received\") + col(\"total_interest_received\") + col(\"total_late_fee_received\")\n",
    "    ).otherwise(col(\"total_payment_received\"))\n",
    ")"
   ]
  },
  {
   "cell_type": "code",
   "execution_count": null,
   "metadata": {
    "application/vnd.databricks.v1+cell": {
     "cellMetadata": {
      "byteLimit": 2048000,
      "rowLimit": 10000
     },
     "inputWidgets": {},
     "nuid": "7eadc223-c314-40b2-bc42-3de5c4b37829",
     "showTitle": false,
     "title": ""
    }
   },
   "outputs": [],
   "source": [
    "loans_payments_fixed2_df = loans_payments_fixed_df.filter(\"total_payment_received != 0.0\")"
   ]
  },
  {
   "cell_type": "code",
   "execution_count": null,
   "metadata": {
    "application/vnd.databricks.v1+cell": {
     "cellMetadata": {
      "byteLimit": 2048000,
      "rowLimit": 10000
     },
     "inputWidgets": {},
     "nuid": "7348cf2e-eccf-4e56-a699-90381284e739",
     "showTitle": false,
     "title": ""
    }
   },
   "outputs": [],
   "source": [
    "# Replace last_payment_date with None if its value is zero; otherwise, keep the existing value\n",
    "loans_payments_ldate_fixed_df = loans_payments_fixed2_df.withColumn(\n",
    "  \"last_payment_date\",\n",
    "   when(\n",
    "       (col(\"last_payment_date\") == 0.0),\n",
    "       None\n",
    "       ).otherwise(col(\"last_payment_date\"))\n",
    ")"
   ]
  },
  {
   "cell_type": "code",
   "execution_count": null,
   "metadata": {
    "application/vnd.databricks.v1+cell": {
     "cellMetadata": {
      "byteLimit": 2048000,
      "rowLimit": 10000
     },
     "inputWidgets": {},
     "nuid": "16243710-4497-4987-924e-d3e5c9d43979",
     "showTitle": false,
     "title": ""
    }
   },
   "outputs": [],
   "source": [
    "# Update last_payment_date to None if next_payment_date is zero; otherwise, set it to next_payment_date\n",
    "loans_payments_ndate_fixed_df = loans_payments_ldate_fixed_df.withColumn(\n",
    "  \"last_payment_date\",\n",
    "   when(\n",
    "       (col(\"next_payment_date\") == 0.0),\n",
    "       None\n",
    "       ).otherwise(col(\"next_payment_date\"))\n",
    ")"
   ]
  },
  {
   "cell_type": "code",
   "execution_count": null,
   "metadata": {
    "application/vnd.databricks.v1+cell": {
     "cellMetadata": {
      "byteLimit": 2048000,
      "rowLimit": 10000
     },
     "inputWidgets": {},
     "nuid": "ee7cc431-c341-4e8f-b505-9b31adad6f4e",
     "showTitle": false,
     "title": ""
    }
   },
   "outputs": [],
   "source": [
    "loans_payments_ndate_fixed_df.write \\\n",
    ".format(\"parquet\") \\\n",
    ".mode(\"overwrite\") \\\n",
    ".option(\"path\", \"dbfs:/FileStore/Lending_Club/data_processing/cleaned/loan_repayment_parquet\") \\\n",
    ".save()"
   ]
  },
  {
   "cell_type": "code",
   "execution_count": null,
   "metadata": {
    "application/vnd.databricks.v1+cell": {
     "cellMetadata": {
      "byteLimit": 2048000,
      "rowLimit": 10000
     },
     "inputWidgets": {},
     "nuid": "fc6cabaf-cab8-4987-beb1-76437b398906",
     "showTitle": false,
     "title": ""
    }
   },
   "outputs": [],
   "source": [
    "loans_payments_ndate_fixed_df.write \\\n",
    ".option(\"header\", True) \\\n",
    ".format(\"csv\") \\\n",
    ".mode(\"overwrite\") \\\n",
    ".option(\"path\", \"dbfs:/FileStore/Lending_Club/data_processing/cleaned/loan_repayment_csv\") \\\n",
    ".save()"
   ]
  },
  {
   "cell_type": "markdown",
   "metadata": {
    "application/vnd.databricks.v1+cell": {
     "cellMetadata": {
      "byteLimit": 2048000,
      "rowLimit": 10000
     },
     "inputWidgets": {},
     "nuid": "e0559aa2-6a29-44dc-970c-6969697d5f8e",
     "showTitle": false,
     "title": ""
    }
   },
   "source": [
    "Processing loan_defaulter dataset"
   ]
  },
  {
   "cell_type": "code",
   "execution_count": null,
   "metadata": {
    "application/vnd.databricks.v1+cell": {
     "cellMetadata": {
      "byteLimit": 2048000,
      "rowLimit": 10000
     },
     "inputWidgets": {},
     "nuid": "5b5971a8-745c-4c90-abd5-92a7af67b09c",
     "showTitle": false,
     "title": ""
    }
   },
   "outputs": [],
   "source": [
    "# Convert the delinq_2yrs column to integer type and replace any null values in it with 0\n",
    "loans_def_processed_df = raw_loan_defaulter_df.withColumn(\"delinq_2yrs\", col(\"delinq_2yrs\").cast(\"integer\")).fillna(0, subset = [\"delinq_2yrs\"])"
   ]
  },
  {
   "cell_type": "code",
   "execution_count": null,
   "metadata": {
    "application/vnd.databricks.v1+cell": {
     "cellMetadata": {
      "byteLimit": 2048000,
      "rowLimit": 10000
     },
     "inputWidgets": {},
     "nuid": "a736a4c5-3a38-40e4-ae8a-06753b1bdd12",
     "showTitle": false,
     "title": ""
    }
   },
   "outputs": [],
   "source": [
    "# Filter records where delinq_2yrs or mths_since_last_delinq are greater than 0\n",
    "loans_def_delinq_df = loans_def_processed_df.filter(\n",
    "    (col(\"delinq_2yrs\") > 0) | (col(\"mths_since_last_delinq\") > 0)\n",
    ").select(\n",
    "    \"member_id\",\n",
    "    \"delinq_2yrs\",\n",
    "    \"delinq_amnt\",\n",
    "    col(\"mths_since_last_delinq\").cast(\"int\").alias(\"mths_since_last_delinq\")  # Cast to int\n",
    ")"
   ]
  },
  {
   "cell_type": "code",
   "execution_count": null,
   "metadata": {
    "application/vnd.databricks.v1+cell": {
     "cellMetadata": {
      "byteLimit": 2048000,
      "rowLimit": 10000
     },
     "inputWidgets": {},
     "nuid": "7509ddc5-40d1-4507-9775-1900f5f02a0a",
     "showTitle": false,
     "title": ""
    }
   },
   "outputs": [],
   "source": [
    "# Filter records with any public records, bankruptcies, or inquiries in the last 6 months, and select member_id\n",
    "loans_def_records_enq_df = loans_def_processed_df.filter(\n",
    "    (col(\"pub_rec\") > 0.0) | \n",
    "    (col(\"pub_rec_bankruptcies\") > 0.0) | \n",
    "    (col(\"inq_last_6mths\") > 0.0)\n",
    ").select(\"member_id\")"
   ]
  },
  {
   "cell_type": "code",
   "execution_count": null,
   "metadata": {
    "application/vnd.databricks.v1+cell": {
     "cellMetadata": {
      "byteLimit": 2048000,
      "rowLimit": 10000
     },
     "inputWidgets": {},
     "nuid": "52e10853-d220-4dc7-9afb-fe19893ca587",
     "showTitle": false,
     "title": ""
    }
   },
   "outputs": [],
   "source": [
    "# Convert the pub_rec column to integer type and replace any null values in it with 0\n",
    "loans_def_p_pub_rec_df = loans_def_processed_df.withColumn(\"pub_rec\", col(\"pub_rec\").cast(\"integer\")).fillna(0, subset = [\"pub_rec\"])"
   ]
  },
  {
   "cell_type": "code",
   "execution_count": null,
   "metadata": {
    "application/vnd.databricks.v1+cell": {
     "cellMetadata": {
      "byteLimit": 2048000,
      "rowLimit": 10000
     },
     "inputWidgets": {},
     "nuid": "3bff2255-cb82-4e1a-a837-f6b49a0bd8a1",
     "showTitle": false,
     "title": ""
    }
   },
   "outputs": [],
   "source": [
    "# Convert the pub_rec_bankruptcies column to integer type and replace any null values in it with 0\n",
    "loans_def_p_pub_rec_bankruptcies_df = loans_def_p_pub_rec_df.withColumn(\"pub_rec_bankruptcies\", col(\"pub_rec_bankruptcies\").cast(\"integer\")).fillna(0, subset = [\"pub_rec_bankruptcies\"])"
   ]
  },
  {
   "cell_type": "code",
   "execution_count": null,
   "metadata": {
    "application/vnd.databricks.v1+cell": {
     "cellMetadata": {
      "byteLimit": 2048000,
      "rowLimit": 10000
     },
     "inputWidgets": {},
     "nuid": "61e5d0e3-6daa-461b-934e-a767ca075e64",
     "showTitle": false,
     "title": ""
    }
   },
   "outputs": [],
   "source": [
    "# Convert the inq_last_6mths column to integer type and replace any null values in it with 0\n",
    "loans_def_p_inq_last_6mths_df = loans_def_p_pub_rec_bankruptcies_df.withColumn(\"inq_last_6mths\", col(\"inq_last_6mths\").cast(\"integer\")).fillna(0, subset = [\"inq_last_6mths\"])"
   ]
  },
  {
   "cell_type": "code",
   "execution_count": null,
   "metadata": {
    "application/vnd.databricks.v1+cell": {
     "cellMetadata": {
      "byteLimit": 2048000,
      "rowLimit": 10000
     },
     "inputWidgets": {},
     "nuid": "24dbf054-39e7-44e3-831c-b752171686dd",
     "showTitle": false,
     "title": ""
    }
   },
   "outputs": [],
   "source": [
    "loans_def_detail_records_enq_df = loans_def_p_inq_last_6mths_df.select(\n",
    "    \"member_id\", \n",
    "    \"pub_rec\", \n",
    "    \"pub_rec_bankruptcies\", \n",
    "    \"inq_last_6mths\"\n",
    ")"
   ]
  },
  {
   "cell_type": "code",
   "execution_count": null,
   "metadata": {
    "application/vnd.databricks.v1+cell": {
     "cellMetadata": {
      "byteLimit": 2048000,
      "rowLimit": 10000
     },
     "inputWidgets": {},
     "nuid": "65f000a5-c2e3-4686-878e-599976651b66",
     "showTitle": false,
     "title": ""
    }
   },
   "outputs": [],
   "source": [
    "loans_def_delinq_df.write \\\n",
    ".format(\"parquet\") \\\n",
    ".mode(\"overwrite\") \\\n",
    ".option(\"path\", \"dbfs:/FileStore/Lending_Club/data_processing/cleaned/loan_defaulter_deling_parquet\") \\\n",
    ".save()"
   ]
  },
  {
   "cell_type": "code",
   "execution_count": null,
   "metadata": {
    "application/vnd.databricks.v1+cell": {
     "cellMetadata": {
      "byteLimit": 2048000,
      "rowLimit": 10000
     },
     "inputWidgets": {},
     "nuid": "451b48ef-8ab3-492b-a24e-cdc8c334b0d3",
     "showTitle": false,
     "title": ""
    }
   },
   "outputs": [],
   "source": [
    "loans_def_delinq_df.write \\\n",
    ".option(\"header\", True) \\\n",
    ".format(\"csv\") \\\n",
    ".mode(\"overwrite\") \\\n",
    ".option(\"path\", \"dbfs:/FileStore/Lending_Club/data_processing/cleaned/loan_defaulter_deling_csv\") \\\n",
    ".save()"
   ]
  },
  {
   "cell_type": "code",
   "execution_count": null,
   "metadata": {
    "application/vnd.databricks.v1+cell": {
     "cellMetadata": {
      "byteLimit": 2048000,
      "rowLimit": 10000
     },
     "inputWidgets": {},
     "nuid": "e03d47d4-1546-48ed-bd08-ff280b2fa8af",
     "showTitle": false,
     "title": ""
    }
   },
   "outputs": [],
   "source": [
    "loans_def_records_enq_df.write \\\n",
    ".format(\"parquet\") \\\n",
    ".mode(\"overwrite\") \\\n",
    ".option(\"path\", \"dbfs:/FileStore/Lending_Club/data_processing/cleaned/loan_defaulter_records_enq_parquet\") \\\n",
    ".save()"
   ]
  },
  {
   "cell_type": "code",
   "execution_count": null,
   "metadata": {
    "application/vnd.databricks.v1+cell": {
     "cellMetadata": {
      "byteLimit": 2048000,
      "rowLimit": 10000
     },
     "inputWidgets": {},
     "nuid": "a3fd655c-32b2-4df9-b171-63dbdb8ef90d",
     "showTitle": false,
     "title": ""
    }
   },
   "outputs": [],
   "source": [
    "loans_def_records_enq_df.write \\\n",
    ".option(\"header\", True) \\\n",
    ".format(\"csv\") \\\n",
    ".mode(\"overwrite\") \\\n",
    ".option(\"path\", \"dbfs:/FileStore/Lending_Club/data_processing/cleaned/loan_defaulter_records_enq_csv\") \\\n",
    ".save()"
   ]
  },
  {
   "cell_type": "code",
   "execution_count": null,
   "metadata": {
    "application/vnd.databricks.v1+cell": {
     "cellMetadata": {
      "byteLimit": 2048000,
      "rowLimit": 10000
     },
     "inputWidgets": {},
     "nuid": "25630bd0-c569-4714-ab04-fa0599bc68d1",
     "showTitle": false,
     "title": ""
    }
   },
   "outputs": [],
   "source": [
    "loans_def_detail_records_enq_df.write \\\n",
    ".format(\"parquet\") \\\n",
    ".mode(\"overwrite\") \\\n",
    ".option(\"path\", \"dbfs:/FileStore/Lending_Club/data_processing/cleaned/loan_defaulter_detail_records_enq_parquet\") \\\n",
    ".save()"
   ]
  },
  {
   "cell_type": "code",
   "execution_count": null,
   "metadata": {
    "application/vnd.databricks.v1+cell": {
     "cellMetadata": {
      "byteLimit": 2048000,
      "rowLimit": 10000
     },
     "inputWidgets": {},
     "nuid": "292007ab-4c8c-468d-8f76-62780dd9eba8",
     "showTitle": false,
     "title": ""
    }
   },
   "outputs": [],
   "source": [
    "loans_def_detail_records_enq_df.write \\\n",
    ".option(\"header\", True) \\\n",
    ".format(\"csv\") \\\n",
    ".mode(\"overwrite\") \\\n",
    ".option(\"path\", \"dbfs:/FileStore/Lending_Club/data_processing/cleaned/loan_defaulter_detail_records_enq_csv\") \\\n",
    ".save()"
   ]
  },
  {
   "cell_type": "markdown",
   "metadata": {
    "application/vnd.databricks.v1+cell": {
     "cellMetadata": {
      "byteLimit": 2048000,
      "rowLimit": 10000
     },
     "inputWidgets": {},
     "nuid": "a6f1d102-918d-4da8-a82e-ee8b17d6e096",
     "showTitle": false,
     "title": ""
    }
   },
   "source": [
    "Creating external tables"
   ]
  },
  {
   "cell_type": "code",
   "execution_count": null,
   "metadata": {
    "application/vnd.databricks.v1+cell": {
     "cellMetadata": {
      "byteLimit": 2048000,
      "rowLimit": 10000
     },
     "inputWidgets": {},
     "nuid": "fe4ea40e-8d86-4d76-bc6c-0a31610908ee",
     "showTitle": false,
     "title": ""
    }
   },
   "outputs": [],
   "source": [
    "# Drop a table if it exist\n",
    "spark.sql(\"DROP TABLE IF EXISTS lending_club\")"
   ]
  },
  {
   "cell_type": "code",
   "execution_count": null,
   "metadata": {
    "application/vnd.databricks.v1+cell": {
     "cellMetadata": {
      "byteLimit": 2048000,
      "rowLimit": 10000
     },
     "inputWidgets": {},
     "nuid": "b2413666-a693-4e34-bfbc-2799f2a6c641",
     "showTitle": false,
     "title": ""
    }
   },
   "outputs": [],
   "source": [
    "# Create the lending_club database if it does not exist\n",
    "spark.sql(\"CREATE DATABASE IF NOT EXISTS lending_club\")"
   ]
  },
  {
   "cell_type": "code",
   "execution_count": null,
   "metadata": {
    "application/vnd.databricks.v1+cell": {
     "cellMetadata": {
      "byteLimit": 2048000,
      "rowLimit": 10000
     },
     "inputWidgets": {},
     "nuid": "9c31a54d-1afc-4dc4-9115-2ddac2ed6bbd",
     "showTitle": false,
     "title": ""
    }
   },
   "outputs": [],
   "source": [
    "# Create the customer external table if it does not exist\n",
    "spark.sql(\"\"\"\n",
    "CREATE EXTERNAL TABLE IF NOT EXISTS lending_club.customer (\n",
    "    member_id STRING, \n",
    "    emp_title STRING, \n",
    "    emp_length INT, \n",
    "    home_ownership STRING, \n",
    "    annual_income FLOAT, \n",
    "    address_state STRING, \n",
    "    address_zipcode STRING, \n",
    "    address_country STRING, \n",
    "    grade STRING, \n",
    "    sub_grade STRING, \n",
    "    verification_status STRING, \n",
    "    total_high_credit_limit FLOAT, \n",
    "    application_type STRING, \n",
    "    join_annual_income FLOAT, \n",
    "    verification_status_joint STRING, \n",
    "    ingest_date STRING\n",
    ")\n",
    "STORED AS PARQUET \n",
    "LOCATION 'dbfs:/FileStore/Lending_Club/data_processing/cleaned/customer_parquet'\n",
    "\"\"\")"
   ]
  },
  {
   "cell_type": "code",
   "execution_count": null,
   "metadata": {
    "application/vnd.databricks.v1+cell": {
     "cellMetadata": {
      "byteLimit": 2048000,
      "rowLimit": 10000
     },
     "inputWidgets": {},
     "nuid": "78d2b932-b1b5-40a4-8869-62213916ade9",
     "showTitle": false,
     "title": ""
    }
   },
   "outputs": [],
   "source": [
    "# Create the loan external table if it does not exist\n",
    "spark.sql(\"\"\"\n",
    "CREATE EXTERNAL TABLE IF NOT EXISTS lending_club.loan (\n",
    "        loan_id STRING,\n",
    "        member_id STRING,\n",
    "        loan_amount FLOAT,\n",
    "        funded_amount FLOAT,\n",
    "        loan_term_years INTEGER,\n",
    "        interest_rate FLOAT,\n",
    "        monthly_installment FLOAT,\n",
    "        issue_date STRING,\n",
    "        loan_status STRING,\n",
    "        loan_purpose STRING,\n",
    "        loan_title STRING,\n",
    "        ingest_date STRING\n",
    "    )\n",
    "    STORED AS PARQUET\n",
    "    LOCATION 'dbfs:/FileStore/Lending_Club/data_processing/cleaned/loan_parquet'\n",
    "\"\"\")"
   ]
  },
  {
   "cell_type": "code",
   "execution_count": null,
   "metadata": {
    "application/vnd.databricks.v1+cell": {
     "cellMetadata": {
      "byteLimit": 2048000,
      "rowLimit": 10000
     },
     "inputWidgets": {},
     "nuid": "a0073356-d213-4eeb-a659-70d1bef7f88c",
     "showTitle": false,
     "title": ""
    }
   },
   "outputs": [],
   "source": [
    "# Create the loan_repayment external table if it does not exist\n",
    "spark.sql(\"\"\"\n",
    "CREATE EXTERNAL TABLE IF NOT EXISTS lending_club.loan_repayment (\n",
    "        loan_id STRING,\n",
    "        total_principal_received FLOAT,\n",
    "        total_interest_received FLOAT,\n",
    "        total_late_fee_received FLOAT,\n",
    "        total_payment_received FLOAT,\n",
    "        last_payment_amount FLOAT,\n",
    "        last_payment_date STRING,\n",
    "        next_payment_date STRING,\n",
    "        ingest_date STRING\n",
    "    )\n",
    "    STORED AS PARQUET\n",
    "    LOCATION 'dbfs:/FileStore/Lending_Club/data_processing/cleaned/loan_repayment_parquet'\n",
    "\"\"\")"
   ]
  },
  {
   "cell_type": "code",
   "execution_count": null,
   "metadata": {
    "application/vnd.databricks.v1+cell": {
     "cellMetadata": {
      "byteLimit": 2048000,
      "rowLimit": 10000
     },
     "inputWidgets": {},
     "nuid": "598dc7b9-a7a3-47f8-9689-6939889a0dc0",
     "showTitle": false,
     "title": ""
    }
   },
   "outputs": [],
   "source": [
    "# Create the loan_defaulter_deling external table if it does not exist\n",
    "spark.sql(\"\"\"\n",
    "CREATE EXTERNAL TABLE IF NOT EXISTS lending_club.loan_defaulter_deling (\n",
    "        member_id STRING,\n",
    "        delinq_2yrs INTEGER,\n",
    "        delinq_amnt FLOAT,\n",
    "        mths_since_last_delinq INTEGER\n",
    "    )\n",
    "    STORED AS PARQUET\n",
    "    LOCATION 'dbfs:/FileStore/Lending_Club/data_processing/cleaned/loan_defaulter_deling_parquet'\n",
    "\"\"\")"
   ]
  },
  {
   "cell_type": "code",
   "execution_count": null,
   "metadata": {
    "application/vnd.databricks.v1+cell": {
     "cellMetadata": {
      "byteLimit": 2048000,
      "rowLimit": 10000
     },
     "inputWidgets": {},
     "nuid": "3d9dfe21-58c5-495d-b379-6b39a457a167",
     "showTitle": false,
     "title": ""
    }
   },
   "outputs": [],
   "source": [
    "# Create the loan_defaulter_detail_records_enq external table if it does not exist\n",
    "spark.sql(\"\"\"\n",
    "CREATE EXTERNAL TABLE IF NOT EXISTS lending_club.loan_defaulter_detail_records_enq (\n",
    "        member_id STRING,\n",
    "        pub_rec INTEGER,\n",
    "        pub_rec_bankruptcies INTEGER,\n",
    "        inq_last_6mths INTEGER\n",
    "    )\n",
    "    STORED AS PARQUET\n",
    "    LOCATION 'dbfs:/FileStore/Lending_Club/data_processing/cleaned/loan_defaulter_detail_records_enq_parquet'\n",
    "\"\"\")\n"
   ]
  },
  {
   "cell_type": "markdown",
   "metadata": {
    "application/vnd.databricks.v1+cell": {
     "cellMetadata": {},
     "inputWidgets": {},
     "nuid": "42490480-0d68-48d8-a441-5114f02f3e1a",
     "showTitle": false,
     "title": ""
    }
   },
   "source": [
    "Creating views by joining tables"
   ]
  },
  {
   "cell_type": "code",
   "execution_count": null,
   "metadata": {
    "application/vnd.databricks.v1+cell": {
     "cellMetadata": {
      "byteLimit": 2048000,
      "rowLimit": 10000
     },
     "inputWidgets": {},
     "nuid": "59dcea73-96b9-4f62-a4db-e3b83847b61e",
     "showTitle": false,
     "title": ""
    }
   },
   "outputs": [],
   "source": [
    "# Creating view\n",
    "spark.sql(\"\"\"\n",
    "    CREATE OR REPLACE VIEW lending_club.customers_loan_view AS\n",
    "    SELECT\n",
    "        l.loan_id,\n",
    "        c.member_id,\n",
    "        c.emp_title,\n",
    "        c.emp_length,\n",
    "        c.home_ownership,\n",
    "        c.annual_income,\n",
    "        c.address_state,\n",
    "        c.address_zipcode,\n",
    "        c.address_country,\n",
    "        c.grade,\n",
    "        c.sub_grade,\n",
    "        c.verification_status,\n",
    "        c.total_high_credit_limit,\n",
    "        c.application_type,\n",
    "        c.join_annual_income,\n",
    "        c.verification_status_joint,\n",
    "        l.loan_amount,\n",
    "        l.funded_amount,\n",
    "        l.loan_term_years,\n",
    "        l.interest_rate,\n",
    "        l.monthly_installment,\n",
    "        l.issue_date,\n",
    "        l.loan_status,\n",
    "        l.loan_purpose,\n",
    "        r.total_principal_received,\n",
    "        r.total_interest_received,\n",
    "        r.total_late_fee_received,\n",
    "        r.last_payment_date,\n",
    "        r.next_payment_date,\n",
    "        d.delinq_2yrs,\n",
    "        d.delinq_amnt,\n",
    "        d.mths_since_last_delinq,\n",
    "        e.pub_rec,\n",
    "        e.pub_rec_bankruptcies,\n",
    "        e.inq_last_6mths\n",
    "    FROM lending_club.customer c\n",
    "    LEFT JOIN lending_club.loan l ON c.member_id = l.member_id\n",
    "    LEFT JOIN lending_club.loan_repayment r ON l.loan_id = r.loan_id\n",
    "    LEFT JOIN lending_club.loan_defaulter_deling d ON c.member_id = d.member_id\n",
    "    LEFT JOIN lending_club.loan_defaulter_detail_records_enq e ON c.member_id = e.member_id\n",
    "\"\"\")\n"
   ]
  },
  {
   "cell_type": "code",
   "execution_count": null,
   "metadata": {
    "application/vnd.databricks.v1+cell": {
     "cellMetadata": {
      "byteLimit": 2048000,
      "rowLimit": 10000
     },
     "inputWidgets": {},
     "nuid": "8cccf6a7-89e3-46b3-a55c-dead70f09b92",
     "showTitle": false,
     "title": ""
    }
   },
   "outputs": [],
   "source": [
    "# Creating table\n",
    "spark.sql(\"\"\"\n",
    "    CREATE TABLE lending_club.customers_loan AS\n",
    "    SELECT\n",
    "        l.loan_id,\n",
    "        c.member_id,\n",
    "        c.emp_title,\n",
    "        c.emp_length,\n",
    "        c.home_ownership,\n",
    "        c.annual_income,\n",
    "        c.address_state,\n",
    "        c.address_zipcode,\n",
    "        c.address_country,\n",
    "        c.grade,\n",
    "        c.sub_grade,\n",
    "        c.verification_status,\n",
    "        c.total_high_credit_limit,\n",
    "        c.application_type,\n",
    "        c.join_annual_income,\n",
    "        c.verification_status_joint,\n",
    "        l.loan_amount,\n",
    "        l.funded_amount,\n",
    "        l.loan_term_years,\n",
    "        l.interest_rate,\n",
    "        l.monthly_installment,\n",
    "        l.issue_date,\n",
    "        l.loan_status,\n",
    "        l.loan_purpose,\n",
    "        r.total_principal_received,\n",
    "        r.total_interest_received,\n",
    "        r.total_late_fee_received,\n",
    "        r.last_payment_date,\n",
    "        r.next_payment_date,\n",
    "        d.delinq_2yrs,\n",
    "        d.delinq_amnt,\n",
    "        d.mths_since_last_delinq,\n",
    "        e.pub_rec,\n",
    "        e.pub_rec_bankruptcies,\n",
    "        e.inq_last_6mths\n",
    "    FROM lending_club.customer c\n",
    "    LEFT JOIN lending_club.loan l ON c.member_id = l.member_id\n",
    "    LEFT JOIN lending_club.loan_repayment r ON l.loan_id = r.loan_id\n",
    "    LEFT JOIN lending_club.loan_defaulter_deling d ON c.member_id = d.member_id\n",
    "    LEFT JOIN lending_club.loan_defaulter_detail_records_enq e ON c.member_id = e.member_id\n",
    "\"\"\")\n"
   ]
  },
  {
   "cell_type": "markdown",
   "metadata": {
    "application/vnd.databricks.v1+cell": {
     "cellMetadata": {},
     "inputWidgets": {},
     "nuid": "5d66f4b1-5d87-4153-825b-a6317f065ecd",
     "showTitle": false,
     "title": ""
    }
   },
   "source": [
    "Segregation of the data"
   ]
  },
  {
   "cell_type": "code",
   "execution_count": null,
   "metadata": {
    "application/vnd.databricks.v1+cell": {
     "cellMetadata": {
      "byteLimit": 2048000,
      "rowLimit": 10000
     },
     "inputWidgets": {},
     "nuid": "a0d796f9-7424-46ee-914b-893480054ca6",
     "showTitle": false,
     "title": ""
    }
   },
   "outputs": [],
   "source": [
    "# Query to find duplicate member_id in the customer table\n",
    "bad_data_customer_df = spark.sql(\"\"\"\n",
    "    SELECT member_id \n",
    "    FROM (\n",
    "        SELECT member_id, COUNT(*) AS total \n",
    "        FROM lending_club.customer \n",
    "        GROUP BY member_id \n",
    "        HAVING total > 1\n",
    "    )\n",
    "\"\"\")"
   ]
  },
  {
   "cell_type": "code",
   "execution_count": null,
   "metadata": {
    "application/vnd.databricks.v1+cell": {
     "cellMetadata": {
      "byteLimit": 2048000,
      "rowLimit": 10000
     },
     "inputWidgets": {},
     "nuid": "cb1b8765-ac9d-44f0-9149-d39feb431873",
     "showTitle": false,
     "title": ""
    }
   },
   "outputs": [],
   "source": [
    "# Query to find duplicate member_id in the loan_defaulter_deling table\n",
    "bad_data_loans_defaulters_delinq_df = spark.sql(\"\"\"\n",
    "    SELECT member_id \n",
    "    FROM (\n",
    "        SELECT member_id, COUNT(*) AS total \n",
    "        FROM lending_club.loan_defaulter_deling \n",
    "        GROUP BY member_id \n",
    "        HAVING total > 1\n",
    "    )\n",
    "\"\"\")"
   ]
  },
  {
   "cell_type": "code",
   "execution_count": null,
   "metadata": {
    "application/vnd.databricks.v1+cell": {
     "cellMetadata": {
      "byteLimit": 2048000,
      "rowLimit": 10000
     },
     "inputWidgets": {},
     "nuid": "c899dd92-eae6-4ba9-81b6-83df27bc01f8",
     "showTitle": false,
     "title": ""
    }
   },
   "outputs": [],
   "source": [
    "# Query to find duplicate member_id in the loan_defaulter_detail_records_enq table\n",
    "bad_data_loans_defaulters_detail_rec_enq_df = spark.sql(\"\"\"\n",
    "    SELECT member_id \n",
    "    FROM (\n",
    "        SELECT member_id, COUNT(*) AS total \n",
    "        FROM lending_club.loan_defaulter_detail_records_enq \n",
    "        GROUP BY member_id \n",
    "        HAVING total > 1\n",
    "    )\n",
    "\"\"\")"
   ]
  },
  {
   "cell_type": "code",
   "execution_count": null,
   "metadata": {
    "application/vnd.databricks.v1+cell": {
     "cellMetadata": {
      "byteLimit": 2048000,
      "rowLimit": 10000
     },
     "inputWidgets": {},
     "nuid": "63a97d19-17b3-451c-8f31-3c44ab89a1ff",
     "showTitle": false,
     "title": ""
    }
   },
   "outputs": [],
   "source": [
    "bad_data_customer_df.write \\\n",
    ".format(\"csv\") \\\n",
    ".option(\"header\", True) \\\n",
    ".mode(\"overwrite\") \\\n",
    ".option(\"path\", \"dbfs:/FileStore/Lending_Club/data_processing/bad/bad_data_customer\") \\\n",
    ".save()"
   ]
  },
  {
   "cell_type": "code",
   "execution_count": null,
   "metadata": {
    "application/vnd.databricks.v1+cell": {
     "cellMetadata": {
      "byteLimit": 2048000,
      "rowLimit": 10000
     },
     "inputWidgets": {},
     "nuid": "48c733d8-dc21-458e-a649-5c1578a8638a",
     "showTitle": false,
     "title": ""
    }
   },
   "outputs": [],
   "source": [
    "bad_data_loans_defaulters_delinq_df.write \\\n",
    ".format(\"csv\") \\\n",
    ".option(\"header\", True) \\\n",
    ".mode(\"overwrite\") \\\n",
    ".option(\"path\", \"dbfs:/FileStore/Lending_Club/data_processing/bad/bad_data_loan_defaulter_deling\") \\\n",
    ".save()"
   ]
  },
  {
   "cell_type": "code",
   "execution_count": null,
   "metadata": {
    "application/vnd.databricks.v1+cell": {
     "cellMetadata": {
      "byteLimit": 2048000,
      "rowLimit": 10000
     },
     "inputWidgets": {},
     "nuid": "f47ac6e2-c1ce-494f-aeed-c302c5808b76",
     "showTitle": false,
     "title": ""
    }
   },
   "outputs": [],
   "source": [
    "bad_data_loans_defaulters_detail_rec_enq_df.write \\\n",
    ".format(\"csv\") \\\n",
    ".option(\"header\", True) \\\n",
    ".mode(\"overwrite\") \\\n",
    ".option(\"path\", \"dbfs:/FileStore/Lending_Club/data_processing/bad/bad_data_loan_defaulter_detail_records_enq\") \\\n",
    ".save()"
   ]
  },
  {
   "cell_type": "code",
   "execution_count": null,
   "metadata": {
    "application/vnd.databricks.v1+cell": {
     "cellMetadata": {
      "byteLimit": 2048000,
      "rowLimit": 10000
     },
     "inputWidgets": {},
     "nuid": "6c6f6cfe-2f86-49b8-855f-50db21ba1791",
     "showTitle": false,
     "title": ""
    }
   },
   "outputs": [],
   "source": [
    "# Combine bad customer data\n",
    "bad_customer_data_df = bad_data_customer_df.select(\"member_id\") \\\n",
    "    .union(bad_data_loans_defaulters_delinq_df.select(\"member_id\")) \\\n",
    "    .union(bad_data_loans_defaulters_detail_rec_enq_df.select(\"member_id\"))"
   ]
  },
  {
   "cell_type": "code",
   "execution_count": null,
   "metadata": {
    "application/vnd.databricks.v1+cell": {
     "cellMetadata": {
      "byteLimit": 2048000,
      "rowLimit": 10000
     },
     "inputWidgets": {},
     "nuid": "7939e5b1-6e08-488b-a12a-fbe29032849a",
     "showTitle": false,
     "title": ""
    }
   },
   "outputs": [],
   "source": [
    "# Remove duplicate\n",
    "bad_customer_data_final_df = bad_customer_data_df.distinct()"
   ]
  },
  {
   "cell_type": "code",
   "execution_count": null,
   "metadata": {
    "application/vnd.databricks.v1+cell": {
     "cellMetadata": {
      "byteLimit": 2048000,
      "rowLimit": 10000
     },
     "inputWidgets": {},
     "nuid": "6d2f077a-6133-4d30-9fe9-ec75c310d905",
     "showTitle": false,
     "title": ""
    }
   },
   "outputs": [],
   "source": [
    "bad_customer_data_final_df.repartition(1).write \\\n",
    ".format(\"csv\") \\\n",
    ".option(\"header\", True) \\\n",
    ".mode(\"overwrite\") \\\n",
    ".option(\"path\", \"dbfs:/FileStore/Lending_Club/data_processing/bad/bad_customer_data_final\") \\\n",
    ".save()"
   ]
  },
  {
   "cell_type": "code",
   "execution_count": null,
   "metadata": {
    "application/vnd.databricks.v1+cell": {
     "cellMetadata": {
      "byteLimit": 2048000,
      "rowLimit": 10000
     },
     "inputWidgets": {},
     "nuid": "c9d316ae-f883-4d5f-912b-f2d28d5db9f0",
     "showTitle": false,
     "title": ""
    }
   },
   "outputs": [],
   "source": [
    "# Create or replace a temporary view for the final bad customer data\n",
    "bad_customer_data_final_df.createOrReplaceTempView(\"bad_data_customer\")"
   ]
  },
  {
   "cell_type": "code",
   "execution_count": null,
   "metadata": {
    "application/vnd.databricks.v1+cell": {
     "cellMetadata": {
      "byteLimit": 2048000,
      "rowLimit": 10000
     },
     "inputWidgets": {},
     "nuid": "82425271-b89f-4703-b9c8-c83cacc56d73",
     "showTitle": false,
     "title": ""
    }
   },
   "outputs": [],
   "source": [
    "# Query to retrieve customers excluding those in the bad_data_customer view\n",
    "customers_df = spark.sql(\"\"\"\n",
    "    SELECT * \n",
    "    FROM lending_club.customer \n",
    "    WHERE member_id NOT IN (SELECT member_id FROM bad_data_customer)\n",
    "\"\"\")"
   ]
  },
  {
   "cell_type": "code",
   "execution_count": null,
   "metadata": {
    "application/vnd.databricks.v1+cell": {
     "cellMetadata": {
      "byteLimit": 2048000,
      "rowLimit": 10000
     },
     "inputWidgets": {},
     "nuid": "9f50e839-73c5-4bd1-a462-c688feacac6d",
     "showTitle": false,
     "title": ""
    }
   },
   "outputs": [],
   "source": [
    "# Query to retrieve loan defaulters excluding those in the bad_data_customer view\n",
    "loans_defaulters_delinq_df = spark.sql(\"\"\"\n",
    "    SELECT * \n",
    "    FROM lending_club.loan_defaulter_deling \n",
    "    WHERE member_id NOT IN (SELECT member_id FROM bad_data_customer)\n",
    "\"\"\")"
   ]
  },
  {
   "cell_type": "code",
   "execution_count": null,
   "metadata": {
    "application/vnd.databricks.v1+cell": {
     "cellMetadata": {
      "byteLimit": 2048000,
      "rowLimit": 10000
     },
     "inputWidgets": {},
     "nuid": "79347318-a7c7-4d85-9e24-cdb4b4de3c06",
     "showTitle": false,
     "title": ""
    }
   },
   "outputs": [],
   "source": [
    "# Query to retrieve loan defaulters detail records excluding those in the bad_data_customer view\n",
    "loans_defaulters_detail_rec_enq_df = spark.sql(\"\"\"\n",
    "    SELECT * \n",
    "    FROM lending_club.loan_defaulter_detail_records_enq \n",
    "    WHERE member_id NOT IN (SELECT member_id FROM bad_data_customer)\n",
    "\"\"\")"
   ]
  },
  {
   "cell_type": "code",
   "execution_count": null,
   "metadata": {
    "application/vnd.databricks.v1+cell": {
     "cellMetadata": {
      "byteLimit": 2048000,
      "rowLimit": 10000
     },
     "inputWidgets": {},
     "nuid": "e782a9b8-a494-4e3d-882b-833dcc411f2c",
     "showTitle": false,
     "title": ""
    }
   },
   "outputs": [],
   "source": [
    "customers_df.write \\\n",
    ".format(\"parquet\") \\\n",
    ".mode(\"overwrite\") \\\n",
    ".option(\"path\", \"dbfs:/FileStore/Lending_Club/data_processing/cleaned_final/customer_parquet\") \\\n",
    ".save()"
   ]
  },
  {
   "cell_type": "code",
   "execution_count": null,
   "metadata": {
    "application/vnd.databricks.v1+cell": {
     "cellMetadata": {
      "byteLimit": 2048000,
      "rowLimit": 10000
     },
     "inputWidgets": {},
     "nuid": "7edac970-cf1a-41e7-b124-1c0329e56431",
     "showTitle": false,
     "title": ""
    }
   },
   "outputs": [],
   "source": [
    "loans_defaulters_delinq_df.write \\\n",
    ".format(\"parquet\") \\\n",
    ".mode(\"overwrite\") \\\n",
    ".option(\"path\", \"dbfs:/FileStore/Lending_Club/data_processing/cleaned_final/loan_defaulter_deling_parquet\") \\\n",
    ".save()"
   ]
  },
  {
   "cell_type": "code",
   "execution_count": null,
   "metadata": {
    "application/vnd.databricks.v1+cell": {
     "cellMetadata": {
      "byteLimit": 2048000,
      "rowLimit": 10000
     },
     "inputWidgets": {},
     "nuid": "77c60316-0e13-4691-98a3-9357f5c42034",
     "showTitle": false,
     "title": ""
    }
   },
   "outputs": [],
   "source": [
    "loans_defaulters_detail_rec_enq_df.write \\\n",
    ".format(\"parquet\") \\\n",
    ".mode(\"overwrite\") \\\n",
    ".option(\"path\", \"dbfs:/FileStore/Lending_Club/data_processing/cleaned_final/loan_defaulter_detail_records_enq_parquet\") \\\n",
    ".save()"
   ]
  },
  {
   "cell_type": "code",
   "execution_count": null,
   "metadata": {
    "application/vnd.databricks.v1+cell": {
     "cellMetadata": {
      "byteLimit": 2048000,
      "rowLimit": 10000
     },
     "inputWidgets": {},
     "nuid": "4ccf08ab-d15c-43b9-8435-bdfc5dd42f8b",
     "showTitle": false,
     "title": ""
    }
   },
   "outputs": [],
   "source": [
    "# Create an external table for the cleaned customer data\n",
    "spark.sql(\"\"\"\n",
    "    CREATE EXTERNAL TABLE IF NOT EXISTS lending_club.customer_new (\n",
    "        member_id STRING,\n",
    "        emp_title STRING,\n",
    "        emp_length INT,\n",
    "        home_ownership STRING,\n",
    "        annual_income FLOAT,\n",
    "        address_state STRING,\n",
    "        address_zipcode STRING,\n",
    "        address_country STRING,\n",
    "        grade STRING,\n",
    "        sub_grade STRING,\n",
    "        verification_status STRING,\n",
    "        total_high_credit_limit FLOAT,\n",
    "        application_type STRING,\n",
    "        join_annual_income FLOAT,\n",
    "        verification_status_joint STRING,\n",
    "        ingest_date STRING\n",
    "    )\n",
    "    STORED AS PARQUET\n",
    "    LOCATION 'dbfs:/FileStore/Lending_Club/data_processing/cleaned_final/customer_parquet'\n",
    "\"\"\")"
   ]
  },
  {
   "cell_type": "code",
   "execution_count": null,
   "metadata": {
    "application/vnd.databricks.v1+cell": {
     "cellMetadata": {
      "byteLimit": 2048000,
      "rowLimit": 10000
     },
     "inputWidgets": {},
     "nuid": "140bfd0b-10bf-470e-820e-830833e19f58",
     "showTitle": false,
     "title": ""
    }
   },
   "outputs": [],
   "source": [
    "# Create an external table for the cleaned loan defaulters data\n",
    "spark.sql(\"\"\"\n",
    "    CREATE EXTERNAL TABLE IF NOT EXISTS lending_club.loan_defaulter_deling_new (\n",
    "        member_id STRING,\n",
    "        delinq_2yrs INTEGER,\n",
    "        delinq_amnt FLOAT,\n",
    "        mths_since_last_delinq INTEGER\n",
    "    )\n",
    "    STORED AS PARQUET\n",
    "    LOCATION 'dbfs:/FileStore/Lending_Club/data_processing/cleaned_final/loan_defaulter_deling_parquet'\n",
    "\"\"\")"
   ]
  },
  {
   "cell_type": "code",
   "execution_count": null,
   "metadata": {
    "application/vnd.databricks.v1+cell": {
     "cellMetadata": {
      "byteLimit": 2048000,
      "rowLimit": 10000
     },
     "inputWidgets": {},
     "nuid": "0331528e-efbe-4c43-956e-e7b1807af301",
     "showTitle": false,
     "title": ""
    }
   },
   "outputs": [],
   "source": [
    "# Create an external table for the cleaned loan defaulters detail records data\n",
    "spark.sql(\"\"\"\n",
    "    CREATE EXTERNAL TABLE IF NOT EXISTS lending_club.loan_defaulter_detail_records_enq_new (\n",
    "        member_id STRING,\n",
    "        pub_rec INTEGER,\n",
    "        pub_rec_bankruptcies INTEGER,\n",
    "        inq_last_6mths INTEGER\n",
    "    )\n",
    "    STORED AS PARQUET\n",
    "    LOCATION 'dbfs:/FileStore/Lending_Club/data_processing/cleaned_final/loan_defaulter_detail_records_enq_parquet'\n",
    "\"\"\")"
   ]
  },
  {
   "cell_type": "markdown",
   "metadata": {
    "application/vnd.databricks.v1+cell": {
     "cellMetadata": {},
     "inputWidgets": {},
     "nuid": "dc3a75d5-dae9-44b8-939e-1b31005ae5c5",
     "showTitle": false,
     "title": ""
    }
   },
   "source": [
    "Calculating Loan Score"
   ]
  },
  {
   "cell_type": "code",
   "execution_count": null,
   "metadata": {
    "application/vnd.databricks.v1+cell": {
     "cellMetadata": {
      "byteLimit": 2048000,
      "rowLimit": 10000
     },
     "inputWidgets": {},
     "nuid": "66af7103-77b7-416e-8680-91b632270041",
     "showTitle": false,
     "title": ""
    }
   },
   "outputs": [],
   "source": [
    "# Associating points to the grades in order to calculate the loan core\n",
    "spark.conf.set(\"spark.sql.unacceptable_rated_pts\", 0)\n",
    "spark.conf.set(\"spark.sql.very_bad_rated_pts\", 100)\n",
    "spark.conf.set(\"spark.sql.bad_rated_pts\", 250)\n",
    "spark.conf.set(\"spark.sql.good_rated_pts\", 500)\n",
    "spark.conf.set(\"spark.sql.very_good_rated_pts\", 650)\n",
    "spark.conf.set(\"spark.sql.excellent_rated_pts\", 800)"
   ]
  },
  {
   "cell_type": "code",
   "execution_count": null,
   "metadata": {
    "application/vnd.databricks.v1+cell": {
     "cellMetadata": {
      "byteLimit": 2048000,
      "rowLimit": 10000
     },
     "inputWidgets": {},
     "nuid": "15a5c81a-bece-44fd-b1a5-99e8f5140016",
     "showTitle": false,
     "title": ""
    }
   },
   "outputs": [],
   "source": [
    "spark.conf.set(\"spark.sql.unacceptable_grade_pts\", 750)\n",
    "spark.conf.set(\"spark.sql.very_bad_grade_pts\", 1000)\n",
    "spark.conf.set(\"spark.sql.bad_grade_pts\", 1500)\n",
    "spark.conf.set(\"spark.sql.good_grade_pts\", 2000)\n",
    "spark.conf.set(\"spark.sql.very_good_grade_pts\", 2500)"
   ]
  },
  {
   "cell_type": "markdown",
   "metadata": {
    "application/vnd.databricks.v1+cell": {
     "cellMetadata": {},
     "inputWidgets": {},
     "nuid": "a77678d1-20fe-4e9e-a2aa-7efa59cd1d4f",
     "showTitle": false,
     "title": ""
    }
   },
   "source": [
    "Criteria 1: Payment History"
   ]
  },
  {
   "cell_type": "code",
   "execution_count": null,
   "metadata": {
    "application/vnd.databricks.v1+cell": {
     "cellMetadata": {
      "byteLimit": 2048000,
      "rowLimit": 10000
     },
     "inputWidgets": {},
     "nuid": "146f4113-5747-4fa3-8488-2272d1bd5cda",
     "showTitle": false,
     "title": ""
    }
   },
   "outputs": [],
   "source": [
    "bad_customer_data_final_df = spark.read \\\n",
    ".format(\"csv\") \\\n",
    ".option(\"header\", True) \\\n",
    ".option(\"inferSchema\", True) \\\n",
    ".load(\"dbfs:/FileStore/Lending_Club/data_processing/bad/bad_customer_data_final\")"
   ]
  },
  {
   "cell_type": "code",
   "execution_count": null,
   "metadata": {
    "application/vnd.databricks.v1+cell": {
     "cellMetadata": {
      "byteLimit": 2048000,
      "rowLimit": 10000
     },
     "inputWidgets": {},
     "nuid": "8c471beb-cc0d-4ec7-8ec3-3876e08520fc",
     "showTitle": false,
     "title": ""
    }
   },
   "outputs": [],
   "source": [
    "# Create or replace a temporary view for the final bad customer data\n",
    "bad_customer_data_final_df.createOrReplaceTempView(\"bad_data_customer\")"
   ]
  },
  {
   "cell_type": "code",
   "execution_count": null,
   "metadata": {
    "application/vnd.databricks.v1+cell": {
     "cellMetadata": {
      "byteLimit": 2048000,
      "rowLimit": 10000
     },
     "inputWidgets": {},
     "nuid": "ee3ec7ab-8986-4054-80da-19709dbd3a1f",
     "showTitle": false,
     "title": ""
    }
   },
   "outputs": [],
   "source": [
    "# Calculate payment points based on last payment amount and total payment received for each member\n",
    "ph_df = spark.sql(\"\"\"\n",
    "    SELECT c.member_id,\n",
    "        CASE \n",
    "            WHEN p.last_payment_amount < (c.monthly_installment * 0.5) THEN ${spark.sql.very_bad_rated_pts}\n",
    "            WHEN p.last_payment_amount >= (c.monthly_installment * 0.5) AND p.last_payment_amount < c.monthly_installment THEN ${spark.sql.very_bad_rated_pts}\n",
    "            WHEN p.last_payment_amount = c.monthly_installment THEN ${spark.sql.good_rated_pts}\n",
    "            WHEN p.last_payment_amount > c.monthly_installment AND p.last_payment_amount <= (c.monthly_installment * 1.50) THEN ${spark.sql.very_good_rated_pts}\n",
    "            WHEN p.last_payment_amount > (c.monthly_installment * 1.50) THEN ${spark.sql.excellent_rated_pts}\n",
    "            ELSE ${spark.sql.unacceptable_rated_pts}\n",
    "        END AS last_payment_pts,\n",
    "        CASE \n",
    "            WHEN p.total_payment_received >= (c.funded_amount * 0.50) THEN ${spark.sql.very_good_rated_pts}\n",
    "            WHEN p.total_payment_received < (c.funded_amount * 0.50) AND p.total_payment_received > 0 THEN ${spark.sql.good_rated_pts}\n",
    "            WHEN p.total_payment_received = 0 OR p.total_payment_received IS NULL THEN ${spark.sql.unacceptable_rated_pts}\n",
    "        END AS total_payment_pts\n",
    "    FROM lending_club.loan_repayment p\n",
    "    INNER JOIN lending_club.loan c ON c.loan_id = p.loan_id\n",
    "    WHERE member_id NOT IN (SELECT member_id FROM bad_data_customer)\n",
    "\"\"\")"
   ]
  },
  {
   "cell_type": "markdown",
   "metadata": {
    "application/vnd.databricks.v1+cell": {
     "cellMetadata": {},
     "inputWidgets": {},
     "nuid": "553859b9-2589-47f8-a2f3-c87b74efa8f3",
     "showTitle": false,
     "title": ""
    }
   },
   "source": [
    "Criteria 2: Loan Defaulters History"
   ]
  },
  {
   "cell_type": "code",
   "execution_count": null,
   "metadata": {
    "application/vnd.databricks.v1+cell": {
     "cellMetadata": {
      "byteLimit": 2048000,
      "rowLimit": 10000
     },
     "inputWidgets": {},
     "nuid": "03df1ad5-fdf3-48a8-a7c6-a9087cb0eb25",
     "showTitle": false,
     "title": ""
    }
   },
   "outputs": [],
   "source": [
    "# Create or replace a temporary view for ph_df\n",
    "ph_df.createOrReplaceTempView(\"ph_pts\")"
   ]
  },
  {
   "cell_type": "code",
   "execution_count": null,
   "metadata": {
    "application/vnd.databricks.v1+cell": {
     "cellMetadata": {
      "byteLimit": 2048000,
      "rowLimit": 10000
     },
     "inputWidgets": {},
     "nuid": "92b5b93b-2560-412f-8ac4-1edf117a1d3f",
     "showTitle": false,
     "title": ""
    }
   },
   "outputs": [],
   "source": [
    "# Calculate points based on delinquency and public record metrics for loan defaulters\n",
    "ldh_ph_df = spark.sql(\n",
    "    \"\"\"\n",
    "    SELECT p.*, \n",
    "        CASE \n",
    "            WHEN d.delinq_2yrs = 0 THEN ${spark.sql.excellent_rated_pts} \n",
    "            WHEN d.delinq_2yrs BETWEEN 1 AND 2 THEN ${spark.sql.bad_rated_pts} \n",
    "            WHEN d.delinq_2yrs BETWEEN 3 AND 5 THEN ${spark.sql.very_bad_rated_pts} \n",
    "            WHEN d.delinq_2yrs > 5 OR d.delinq_2yrs IS NULL THEN ${spark.sql.unacceptable_grade_pts} \n",
    "        END AS delinq_pts, \n",
    "        CASE \n",
    "            WHEN l.pub_rec = 0 THEN ${spark.sql.excellent_rated_pts} \n",
    "            WHEN l.pub_rec BETWEEN 1 AND 2 THEN ${spark.sql.bad_rated_pts} \n",
    "            WHEN l.pub_rec BETWEEN 3 AND 5 THEN ${spark.sql.very_bad_rated_pts} \n",
    "            WHEN l.pub_rec > 5 OR l.pub_rec IS NULL THEN ${spark.sql.very_bad_rated_pts} \n",
    "        END AS public_records_pts, \n",
    "        CASE \n",
    "            WHEN l.pub_rec_bankruptcies = 0 THEN ${spark.sql.excellent_rated_pts} \n",
    "            WHEN l.pub_rec_bankruptcies BETWEEN 1 AND 2 THEN ${spark.sql.bad_rated_pts} \n",
    "            WHEN l.pub_rec_bankruptcies BETWEEN 3 AND 5 THEN ${spark.sql.very_bad_rated_pts} \n",
    "            WHEN l.pub_rec_bankruptcies > 5 OR l.pub_rec_bankruptcies IS NULL THEN ${spark.sql.very_bad_rated_pts} \n",
    "        END AS public_bankruptcies_pts, \n",
    "        CASE \n",
    "            WHEN l.inq_last_6mths = 0 THEN ${spark.sql.excellent_rated_pts} \n",
    "            WHEN l.inq_last_6mths BETWEEN 1 AND 2 THEN ${spark.sql.bad_rated_pts} \n",
    "            WHEN l.inq_last_6mths BETWEEN 3 AND 5 THEN ${spark.sql.very_bad_rated_pts} \n",
    "            WHEN l.inq_last_6mths > 5 OR l.inq_last_6mths IS NULL THEN ${spark.sql.unacceptable_rated_pts} \n",
    "        END AS enq_pts \n",
    "    FROM lending_club.loan_defaulter_detail_records_enq_new l \n",
    "    INNER JOIN lending_club.loan_defaulter_deling_new d ON d.member_id = l.member_id  \n",
    "    INNER JOIN ph_pts p ON p.member_id = l.member_id \n",
    "    WHERE l.member_id NOT IN (SELECT member_id FROM bad_data_customer)\n",
    "    \"\"\"\n",
    ")"
   ]
  },
  {
   "cell_type": "code",
   "execution_count": null,
   "metadata": {
    "application/vnd.databricks.v1+cell": {
     "cellMetadata": {
      "byteLimit": 2048000,
      "rowLimit": 10000
     },
     "inputWidgets": {},
     "nuid": "84ffc381-f2b3-4a97-9d68-07a09608685e",
     "showTitle": false,
     "title": ""
    }
   },
   "outputs": [],
   "source": [
    "# Create or replace a temporary view for ldh_ph_df\n",
    "ldh_ph_df.createOrReplaceTempView(\"ldh_ph_pts\")"
   ]
  },
  {
   "cell_type": "code",
   "execution_count": null,
   "metadata": {
    "application/vnd.databricks.v1+cell": {
     "cellMetadata": {
      "byteLimit": 2048000,
      "rowLimit": 10000
     },
     "inputWidgets": {},
     "nuid": "6f0ab6f2-373e-4315-bea7-abd70d890a71",
     "showTitle": false,
     "title": ""
    }
   },
   "outputs": [],
   "source": [
    "# Calculate loan and customer scores based on various criteria\n",
    "fh_ldh_ph_df = spark.sql(\n",
    "    \"\"\"\n",
    "    SELECT ldef.*, \n",
    "        CASE \n",
    "            WHEN LOWER(l.loan_status) LIKE '%fully paid%' THEN ${spark.sql.excellent_rated_pts} \n",
    "            WHEN LOWER(l.loan_status) LIKE '%current%' THEN ${spark.sql.good_rated_pts} \n",
    "            WHEN LOWER(l.loan_status) LIKE '%in grace period%' THEN ${spark.sql.bad_rated_pts} \n",
    "            WHEN LOWER(l.loan_status) LIKE '%late (16-30 days)%' OR LOWER(l.loan_status) LIKE '%late (31-120 days)%' THEN ${spark.sql.very_bad_rated_pts} \n",
    "            WHEN LOWER(l.loan_status) LIKE '%charged off%' THEN ${spark.sql.unacceptable_rated_pts} \n",
    "            ELSE ${spark.sql.unacceptable_rated_pts} \n",
    "        END AS loan_status_pts, \n",
    "        CASE \n",
    "            WHEN LOWER(a.home_ownership) LIKE '%own' THEN ${spark.sql.excellent_rated_pts} \n",
    "            WHEN LOWER(a.home_ownership) LIKE '%rent' THEN ${spark.sql.good_rated_pts} \n",
    "            WHEN LOWER(a.home_ownership) LIKE '%mortgage' THEN ${spark.sql.bad_rated_pts} \n",
    "            WHEN LOWER(a.home_ownership) LIKE '%any' OR LOWER(a.home_ownership) IS NULL THEN ${spark.sql.very_bad_rated_pts} \n",
    "        END AS home_pts, \n",
    "        CASE \n",
    "            WHEN l.funded_amount <= (a.total_high_credit_limit * 0.10) THEN ${spark.sql.excellent_rated_pts} \n",
    "            WHEN l.funded_amount > (a.total_high_credit_limit * 0.10) AND l.funded_amount <= (a.total_high_credit_limit * 0.20) THEN ${spark.sql.very_good_rated_pts} \n",
    "            WHEN l.funded_amount > (a.total_high_credit_limit * 0.20) AND l.funded_amount <= (a.total_high_credit_limit * 0.30) THEN ${spark.sql.good_rated_pts} \n",
    "            WHEN l.funded_amount > (a.total_high_credit_limit * 30) AND l.funded_amount <= (a.total_high_credit_limit * 0.50) THEN ${spark.sql.bad_rated_pts} \n",
    "            WHEN l.funded_amount > (a.total_high_credit_limit * 0.50) AND l.funded_amount <= (a.total_high_credit_limit * 0.70) THEN ${spark.sql.very_bad_rated_pts} \n",
    "            WHEN l.funded_amount > (a.total_high_credit_limit * 0.70) THEN ${spark.sql.unacceptable_rated_pts} \n",
    "            ELSE ${spark.sql.unacceptable_rated_pts} \n",
    "        END AS credit_limit_pts, \n",
    "        CASE \n",
    "            WHEN (a.grade) = 'A' AND (a.sub_grade)='A1' THEN ${spark.sql.excellent_rated_pts} \n",
    "            WHEN (a.grade) = 'A' AND (a.sub_grade)='A2' THEN (${spark.sql.excellent_rated_pts} * 0.95) \n",
    "            WHEN (a.grade) = 'A' AND (a.sub_grade)='A3' THEN (${spark.sql.excellent_rated_pts} * 0.90) \n",
    "            WHEN (a.grade) = 'A' AND (a.sub_grade)='A4' THEN (${spark.sql.excellent_rated_pts} * 0.85) \n",
    "            WHEN (a.grade) = 'A' AND (a.sub_grade)='A5' THEN (${spark.sql.excellent_rated_pts} * 0.80) \n",
    "            WHEN (a.grade) = 'B' AND (a.sub_grade)='B1' THEN ${spark.sql.very_good_rated_pts} \n",
    "            WHEN (a.grade) = 'B' AND (a.sub_grade)='B2' THEN (${spark.sql.very_good_rated_pts} * 0.95) \n",
    "            WHEN (a.grade) = 'B' AND (a.sub_grade)='B3' THEN (${spark.sql.very_good_rated_pts} * 0.90) \n",
    "            WHEN (a.grade) = 'B' AND (a.sub_grade)='B4' THEN (${spark.sql.very_good_rated_pts} * 0.85) \n",
    "            WHEN (a.grade) = 'B' AND (a.sub_grade)='B5' THEN (${spark.sql.very_good_rated_pts} * 0.80) \n",
    "            WHEN (a.grade) = 'C' AND (a.sub_grade)='C1' THEN ${spark.sql.good_rated_pts} \n",
    "            WHEN (a.grade) = 'C' AND (a.sub_grade)='C2' THEN (${spark.sql.good_rated_pts} * 0.95) \n",
    "            WHEN (a.grade) = 'C' AND (a.sub_grade)='C3' THEN (${spark.sql.good_rated_pts} * 0.90) \n",
    "            WHEN (a.grade) = 'C' AND (a.sub_grade)='C4' THEN (${spark.sql.good_rated_pts} * 0.85) \n",
    "            WHEN (a.grade) = 'C' AND (a.sub_grade)='C5' THEN (${spark.sql.good_rated_pts} * 0.80) \n",
    "            WHEN (a.grade) = 'D' AND (a.sub_grade)='D1' THEN ${spark.sql.bad_rated_pts} \n",
    "            WHEN (a.grade) = 'D' AND (a.sub_grade)='D2' THEN (${spark.sql.bad_rated_pts} * 0.95) \n",
    "            WHEN (a.grade) = 'D' AND (a.sub_grade)='D3' THEN (${spark.sql.bad_rated_pts} * 0.90) \n",
    "            WHEN (a.grade) = 'D' AND (a.sub_grade)='D4' THEN (${spark.sql.bad_rated_pts} * 0.85) \n",
    "            WHEN (a.grade) = 'D' AND (a.sub_grade)='D5' THEN (${spark.sql.bad_rated_pts} * 0.80) \n",
    "            WHEN (a.grade) = 'E' AND (a.sub_grade)='E1' THEN (${spark.sql.very_bad_rated_pts}) \n",
    "            WHEN (a.grade) = 'E' AND (a.sub_grade)='E2' THEN (${spark.sql.very_bad_rated_pts} * 0.95) \n",
    "            WHEN (a.grade) = 'E' AND (a.sub_grade)='E3' THEN (${spark.sql.very_bad_rated_pts} * 0.90) \n",
    "            WHEN (a.grade) = 'E' AND (a.sub_grade)='E4' THEN (${spark.sql.very_bad_rated_pts} * 0.85) \n",
    "            WHEN (a.grade) = 'E' AND (a.sub_grade)='E5' THEN (${spark.sql.very_bad_rated_pts} * 0.80) \n",
    "            WHEN (a.grade) IN ('F', 'G') THEN (${spark.sql.unacceptable_rated_pts}) \n",
    "        END AS grade_pts \n",
    "    FROM ldh_ph_pts ldef \n",
    "    INNER JOIN lending_club.loan l ON ldef.member_id = l.member_id \n",
    "    INNER JOIN lending_club.customer_new a ON a.member_id = ldef.member_id \n",
    "    WHERE ldef.member_id NOT IN (SELECT member_id FROM bad_data_customer)\n",
    "    \"\"\"\n",
    ")"
   ]
  },
  {
   "cell_type": "code",
   "execution_count": null,
   "metadata": {
    "application/vnd.databricks.v1+cell": {
     "cellMetadata": {
      "byteLimit": 2048000,
      "rowLimit": 10000
     },
     "inputWidgets": {},
     "nuid": "86efb7be-41fe-4b2a-bc4c-bcf570e42420",
     "showTitle": false,
     "title": ""
    }
   },
   "outputs": [],
   "source": [
    "# Create a temporary view for the DataFrame\n",
    "fh_ldh_ph_df.createOrReplaceTempView(\"fh_ldh_ph_pts\")"
   ]
  },
  {
   "cell_type": "markdown",
   "metadata": {
    "application/vnd.databricks.v1+cell": {
     "cellMetadata": {},
     "inputWidgets": {},
     "nuid": "1341b9fc-564b-45d6-8567-7578fc4febdd",
     "showTitle": false,
     "title": ""
    }
   },
   "source": [
    "Final Loan Score calculation based on below criteria\n",
    "1) Payment History = 20%\n",
    "2) Loan Defaults = 45%\n",
    "3) Financial Health = 35%"
   ]
  },
  {
   "cell_type": "code",
   "execution_count": null,
   "metadata": {
    "application/vnd.databricks.v1+cell": {
     "cellMetadata": {
      "byteLimit": 2048000,
      "rowLimit": 10000
     },
     "inputWidgets": {},
     "nuid": "40bbc1aa-cb1e-45fa-8ed2-8143c493c963",
     "showTitle": false,
     "title": ""
    }
   },
   "outputs": [],
   "source": [
    "loan_score = spark.sql(\"\"\"\n",
    "    SELECT member_id, \n",
    "    ((last_payment_pts + total_payment_pts) * 0.20) AS payment_history_pts, \n",
    "    ((delinq_pts + public_records_pts + public_bankruptcies_pts + enq_pts) * 0.45) AS defaulters_history_pts, \n",
    "    ((loan_status_pts + home_pts + credit_limit_pts + grade_pts) * 0.35) AS financial_health_pts \n",
    "    FROM fh_ldh_ph_pts\n",
    "\"\"\")"
   ]
  },
  {
   "cell_type": "code",
   "execution_count": null,
   "metadata": {
    "application/vnd.databricks.v1+cell": {
     "cellMetadata": {
      "byteLimit": 2048000,
      "rowLimit": 10000
     },
     "inputWidgets": {},
     "nuid": "683838c4-fed4-4297-bfb1-8fe9eab89beb",
     "showTitle": false,
     "title": ""
    }
   },
   "outputs": [],
   "source": [
    "# Calculate the final loan score by summing up various points\n",
    "final_loan_score = loan_score.withColumn(\n",
    "    'loan_score',\n",
    "    loan_score.payment_history_pts + \n",
    "    loan_score.defaulters_history_pts + \n",
    "    loan_score.financial_health_pts\n",
    ")"
   ]
  },
  {
   "cell_type": "code",
   "execution_count": null,
   "metadata": {
    "application/vnd.databricks.v1+cell": {
     "cellMetadata": {
      "byteLimit": 2048000,
      "rowLimit": 10000
     },
     "inputWidgets": {},
     "nuid": "b6d767d5-daa8-49c9-ab4c-096c7bb8983b",
     "showTitle": false,
     "title": ""
    }
   },
   "outputs": [],
   "source": [
    "# Create a temporary view for loan score evaluation\n",
    "final_loan_score.createOrReplaceTempView(\"loan_score_eval\")"
   ]
  },
  {
   "cell_type": "code",
   "execution_count": null,
   "metadata": {
    "application/vnd.databricks.v1+cell": {
     "cellMetadata": {
      "byteLimit": 2048000,
      "rowLimit": 10000
     },
     "inputWidgets": {},
     "nuid": "e2aeaece-f162-4bfe-a788-5d346c4a1829",
     "showTitle": false,
     "title": ""
    }
   },
   "outputs": [],
   "source": [
    "# Assign final grades based on loan scores using SQL query\n",
    "loan_score_final = spark.sql(\"\"\"\n",
    "    SELECT ls.*, \n",
    "    CASE \n",
    "        WHEN loan_score > ${spark.sql.very_good_grade_pts} THEN 'A' \n",
    "        WHEN loan_score <= ${spark.sql.very_good_grade_pts} AND loan_score > ${spark.sql.good_grade_pts} THEN 'B' \n",
    "        WHEN loan_score <= ${spark.sql.good_grade_pts} AND loan_score > ${spark.sql.bad_grade_pts} THEN 'C' \n",
    "        WHEN loan_score <= ${spark.sql.bad_grade_pts} AND loan_score > ${spark.sql.very_bad_grade_pts} THEN 'D' \n",
    "        WHEN loan_score <= ${spark.sql.very_bad_grade_pts} AND loan_score > ${spark.sql.unacceptable_grade_pts} THEN 'E'  \n",
    "        WHEN loan_score <= ${spark.sql.unacceptable_grade_pts} THEN 'F' \n",
    "    END AS loan_final_grade \n",
    "    FROM loan_score_eval ls\n",
    "\"\"\")"
   ]
  },
  {
   "cell_type": "code",
   "execution_count": null,
   "metadata": {
    "application/vnd.databricks.v1+cell": {
     "cellMetadata": {
      "byteLimit": 2048000,
      "rowLimit": 10000
     },
     "inputWidgets": {},
     "nuid": "3b77062e-f6e9-411d-9071-d45225b538ab",
     "showTitle": false,
     "title": ""
    }
   },
   "outputs": [],
   "source": [
    "loan_score_final.write \\\n",
    ".format(\"parquet\") \\\n",
    ".mode(\"overwrite\") \\\n",
    ".option(\"path\", \"dbfs:/FileStore/Lending_Club/data_processing/processed/loan_score\") \\\n",
    ".save()"
   ]
  },
  {
   "cell_type": "code",
   "execution_count": null,
   "metadata": {
    "application/vnd.databricks.v1+cell": {
     "cellMetadata": {
      "byteLimit": 2048000,
      "rowLimit": 10000
     },
     "inputWidgets": {},
     "nuid": "707a25d3-e982-480d-942b-99821b2f737a",
     "showTitle": false,
     "title": ""
    }
   },
   "outputs": [],
   "source": [
    "spark.stop()"
   ]
  }
 ],
 "metadata": {
  "application/vnd.databricks.v1+notebook": {
   "dashboards": [],
   "environmentMetadata": null,
   "language": "python",
   "notebookMetadata": {
    "pythonIndentUnit": 4
   },
   "notebookName": "pyspark_capstone_project",
   "widgets": {}
  },
  "kernelspec": {
   "display_name": "Python 3 (ipykernel)",
   "language": "python",
   "name": "python3"
  },
  "language_info": {
   "codemirror_mode": {
    "name": "ipython",
    "version": 3
   },
   "file_extension": ".py",
   "mimetype": "text/x-python",
   "name": "python",
   "nbconvert_exporter": "python",
   "pygments_lexer": "ipython3",
   "version": "3.12.4"
  }
 },
 "nbformat": 4,
 "nbformat_minor": 4
}
